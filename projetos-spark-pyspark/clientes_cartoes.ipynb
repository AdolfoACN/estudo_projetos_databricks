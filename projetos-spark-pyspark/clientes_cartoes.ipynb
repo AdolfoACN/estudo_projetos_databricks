{
 "cells": [
  {
   "cell_type": "code",
   "execution_count": null,
   "id": "3ba15a05",
   "metadata": {},
   "outputs": [],
   "source": [
    "# Databricks notebook source\n",
    "clientes = spark.read.format('csv').options(header='true', inferSchema='true', delimiter=';').load('/FileStore/tables/carga/clientes_cartao.csv')"
   ]
  },
  {
   "cell_type": "code",
   "execution_count": null,
   "id": "371f6c29",
   "metadata": {},
   "outputs": [],
   "source": [
    "display(clientes)"
   ]
  },
  {
   "cell_type": "markdown",
   "id": "aedaf0b2",
   "metadata": {},
   "source": [
    "COMMAND ----------"
   ]
  },
  {
   "cell_type": "markdown",
   "id": "c76c4179",
   "metadata": {},
   "source": [
    "MAGIC %sql\n",
    "MAGIC  select *\n",
    "MAGIC  from default.clientes_cartao_2_csv\n",
    "MAGIC  limit 100"
   ]
  }
 ],
 "metadata": {
  "jupytext": {
   "cell_metadata_filter": "-all",
   "main_language": "python",
   "notebook_metadata_filter": "-all"
  }
 },
 "nbformat": 4,
 "nbformat_minor": 5
}
