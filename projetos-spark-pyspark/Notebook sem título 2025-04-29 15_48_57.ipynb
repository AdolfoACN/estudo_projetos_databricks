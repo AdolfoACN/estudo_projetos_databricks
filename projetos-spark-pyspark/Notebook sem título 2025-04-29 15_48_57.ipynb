{
 "cells": [
  {
   "cell_type": "markdown",
   "id": "4186b04c",
   "metadata": {},
   "source": [
    "Databricks notebook source"
   ]
  }
 ],
 "metadata": {
  "jupytext": {
   "cell_metadata_filter": "-all",
   "main_language": "python",
   "notebook_metadata_filter": "-all"
  }
 },
 "nbformat": 4,
 "nbformat_minor": 5
}
