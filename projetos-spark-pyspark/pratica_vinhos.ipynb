{
 "cells": [
  {
   "cell_type": "code",
   "execution_count": null,
   "id": "ede4a899",
   "metadata": {},
   "outputs": [],
   "source": [
    "# Databricks notebook source\n",
    "vinhos_mundo_df = spark.read.csv(\"/FileStore/tables/vinhos_no_mundo-2.csv\", header = True , inferSchema = True )"
   ]
  },
  {
   "cell_type": "markdown",
   "id": "7a856ea5",
   "metadata": {},
   "source": [
    "COMMAND ----------"
   ]
  },
  {
   "cell_type": "code",
   "execution_count": null,
   "id": "ab4b5446",
   "metadata": {},
   "outputs": [],
   "source": [
    "display(vinhos_mundo_df)"
   ]
  },
  {
   "cell_type": "markdown",
   "id": "a20b41c5",
   "metadata": {},
   "source": [
    "COMMAND ----------"
   ]
  },
  {
   "cell_type": "code",
   "execution_count": null,
   "id": "073444de",
   "metadata": {},
   "outputs": [],
   "source": [
    "from  pyspark.sql import functions as  f\n",
    "from pyspark.sql.window import Window as w"
   ]
  },
  {
   "cell_type": "markdown",
   "id": "66238d30",
   "metadata": {},
   "source": [
    "COMMAND ----------"
   ]
  },
  {
   "cell_type": "code",
   "execution_count": null,
   "id": "189b5c85",
   "metadata": {},
   "outputs": [],
   "source": [
    "windowsSpec = w.partitionBy ('country').orderBy('price')"
   ]
  },
  {
   "cell_type": "code",
   "execution_count": null,
   "id": "c3533e46",
   "metadata": {},
   "outputs": [],
   "source": []
  },
  {
   "cell_type": "markdown",
   "id": "c05315fa",
   "metadata": {},
   "source": [
    "COMMAND ----------"
   ]
  },
  {
   "cell_type": "code",
   "execution_count": null,
   "id": "6873dc67",
   "metadata": {},
   "outputs": [],
   "source": [
    "vinhos_mundo_rank_df = vinhos_mundo_df.WithColumn(\"rank\",f.rank().over(windowsSpec))"
   ]
  },
  {
   "cell_type": "markdown",
   "id": "6bc79030",
   "metadata": {},
   "source": [
    "COMMAND ----------"
   ]
  },
  {
   "cell_type": "code",
   "execution_count": null,
   "id": "8b9ed220",
   "metadata": {},
   "outputs": [],
   "source": [
    "vinhos_mundo_rank_price_filtered = vinhos_mundo_df.withColumn"
   ]
  },
  {
   "cell_type": "code",
   "execution_count": null,
   "id": "d8750f84",
   "metadata": {},
   "outputs": [],
   "source": [
    "display()"
   ]
  },
  {
   "cell_type": "markdown",
   "id": "ce3ca87d",
   "metadata": {},
   "source": [
    "COMMAND ----------"
   ]
  },
  {
   "cell_type": "code",
   "execution_count": null,
   "id": "157ebc3f",
   "metadata": {},
   "outputs": [],
   "source": [
    "vinhos_mundo_rank_price_filtered = vinhos_mundo_rank_price.filter(f.col('country') == 'France') "
   ]
  },
  {
   "cell_type": "code",
   "execution_count": null,
   "id": "d769dc79",
   "metadata": {},
   "outputs": [],
   "source": []
  },
  {
   "cell_type": "code",
   "execution_count": null,
   "id": "0f9352c4",
   "metadata": {
    "lines_to_next_cell": 2
   },
   "outputs": [],
   "source": []
  },
  {
   "cell_type": "markdown",
   "id": "097ac034",
   "metadata": {},
   "source": [
    "COMMAND ----------"
   ]
  },
  {
   "cell_type": "code",
   "execution_count": null,
   "id": "ac2f3705",
   "metadata": {},
   "outputs": [],
   "source": [
    "display(vinhos_mundo_rank_price_filtered)"
   ]
  },
  {
   "cell_type": "markdown",
   "id": "1dd95c68",
   "metadata": {},
   "source": [
    "COMMAND ----------"
   ]
  },
  {
   "cell_type": "code",
   "execution_count": null,
   "id": "7a8bb1fa",
   "metadata": {},
   "outputs": [],
   "source": [
    "df_price_not_null = vinhos_mundo_rank_price_filtered.(f.col('price').isNotNull())"
   ]
  }
 ],
 "metadata": {
  "jupytext": {
   "cell_metadata_filter": "-all",
   "main_language": "python",
   "notebook_metadata_filter": "-all"
  }
 },
 "nbformat": 4,
 "nbformat_minor": 5
}
