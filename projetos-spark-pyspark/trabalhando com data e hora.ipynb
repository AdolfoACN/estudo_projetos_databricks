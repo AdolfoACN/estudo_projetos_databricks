{
 "cells": [
  {
   "cell_type": "code",
   "execution_count": null,
   "id": "88c724b6",
   "metadata": {},
   "outputs": [],
   "source": [
    "# Databricks notebook source\n",
    "from pyspark.sql.functions import to_date"
   ]
  },
  {
   "cell_type": "markdown",
   "id": "df79ceca",
   "metadata": {},
   "source": [
    "COMMAND ----------"
   ]
  },
  {
   "cell_type": "markdown",
   "id": "71e88790",
   "metadata": {},
   "source": [
    "criando um data frame manual para fazer o teste"
   ]
  },
  {
   "cell_type": "code",
   "execution_count": null,
   "id": "a1383fac",
   "metadata": {},
   "outputs": [],
   "source": [
    "df = spark.createDataFrame([(1,\"2022-03-25\",100),(2,\"2022-04-01\",200)],[\"id\",\"data_venda\",\"valor\"])"
   ]
  },
  {
   "cell_type": "markdown",
   "id": "736129c9",
   "metadata": {},
   "source": [
    "COMMAND ----------"
   ]
  },
  {
   "cell_type": "code",
   "execution_count": null,
   "id": "f8a16b8a",
   "metadata": {},
   "outputs": [],
   "source": [
    "df.show()"
   ]
  },
  {
   "cell_type": "markdown",
   "id": "8a8ca13a",
   "metadata": {},
   "source": [
    "COMMAND ----------"
   ]
  },
  {
   "cell_type": "markdown",
   "id": "ff0f7038",
   "metadata": {},
   "source": [
    "criando uma nova coluna no data frame, no entanto essa coluna vai ser convertida de string para data , baseada na coluna data_venda"
   ]
  },
  {
   "cell_type": "code",
   "execution_count": null,
   "id": "edb5ab73",
   "metadata": {},
   "outputs": [],
   "source": [
    "df_teste = df.withColumn('data',to_date(df.data_venda))"
   ]
  },
  {
   "cell_type": "markdown",
   "id": "7e3cf4de",
   "metadata": {},
   "source": [
    "COMMAND ----------"
   ]
  },
  {
   "cell_type": "markdown",
   "id": "e5720499",
   "metadata": {
    "lines_to_next_cell": 2
   },
   "source": [
    "filtrar por intervalo de data"
   ]
  },
  {
   "cell_type": "code",
   "execution_count": null,
   "id": "c69e2932",
   "metadata": {},
   "outputs": [],
   "source": [
    "df_filtrar = df_teste.filter(to_date(df_teste.data_venda)>= '2022-04-01')"
   ]
  },
  {
   "cell_type": "markdown",
   "id": "7fd7e16e",
   "metadata": {},
   "source": [
    "COMMAND ----------"
   ]
  },
  {
   "cell_type": "code",
   "execution_count": null,
   "id": "633077dd",
   "metadata": {},
   "outputs": [],
   "source": [
    "df_filtrar.show()"
   ]
  },
  {
   "cell_type": "markdown",
   "id": "6b1c2a77",
   "metadata": {},
   "source": [
    "COMMAND ----------"
   ]
  },
  {
   "cell_type": "markdown",
   "id": "fd935c5b",
   "metadata": {},
   "source": [
    "calcular diferença entre 2 datas método date_diff (criando um novo dataframe)"
   ]
  },
  {
   "cell_type": "code",
   "execution_count": null,
   "id": "901eaf51",
   "metadata": {},
   "outputs": [],
   "source": [
    "df_datas = spark.createDataFrame([(1,\"2022-03-25\",\"2022-04-01\"),(2,\"2022-04-01\",\"2022-04-05\")],[\"id\",\"data_1\",\"data_2\"])"
   ]
  },
  {
   "cell_type": "markdown",
   "id": "9781281e",
   "metadata": {},
   "source": [
    "COMMAND ----------"
   ]
  },
  {
   "cell_type": "code",
   "execution_count": null,
   "id": "2cdf7898",
   "metadata": {},
   "outputs": [],
   "source": [
    "df_datas.show()"
   ]
  },
  {
   "cell_type": "markdown",
   "id": "f655fa7e",
   "metadata": {},
   "source": [
    "COMMAND ----------"
   ]
  },
  {
   "cell_type": "markdown",
   "id": "a21d1880",
   "metadata": {},
   "source": [
    "importando a função datediff"
   ]
  },
  {
   "cell_type": "code",
   "execution_count": null,
   "id": "90a1f88c",
   "metadata": {},
   "outputs": [],
   "source": [
    "from pyspark.sql.functions import datediff"
   ]
  },
  {
   "cell_type": "markdown",
   "id": "42edd270",
   "metadata": {},
   "source": [
    "COMMAND ----------"
   ]
  },
  {
   "cell_type": "code",
   "execution_count": null,
   "id": "b94b88d6",
   "metadata": {},
   "outputs": [],
   "source": [
    "df_datas = df_datas.withColumn(\"dif_datas\",datediff(df_datas.data_2,df_datas.data_1 ))"
   ]
  },
  {
   "cell_type": "markdown",
   "id": "d9d24f24",
   "metadata": {},
   "source": [
    "COMMAND ----------"
   ]
  },
  {
   "cell_type": "code",
   "execution_count": null,
   "id": "ab68dde3",
   "metadata": {},
   "outputs": [],
   "source": [
    "df_datas.show()"
   ]
  },
  {
   "cell_type": "markdown",
   "id": "427169ca",
   "metadata": {},
   "source": [
    "COMMAND ----------"
   ]
  },
  {
   "cell_type": "code",
   "execution_count": null,
   "id": "41c13748",
   "metadata": {},
   "outputs": [],
   "source": [
    "from pyspark.sql.functions import date_format"
   ]
  },
  {
   "cell_type": "markdown",
   "id": "55a190a3",
   "metadata": {},
   "source": [
    "COMMAND ----------"
   ]
  },
  {
   "cell_type": "code",
   "execution_count": null,
   "id": "b6017d66",
   "metadata": {},
   "outputs": [],
   "source": [
    "df = df.withColumn(\"data_formatada\",date_format(df.data_venda,'dd/MM/yyyy'))"
   ]
  },
  {
   "cell_type": "markdown",
   "id": "f80ff0f2",
   "metadata": {},
   "source": [
    "COMMAND ----------"
   ]
  },
  {
   "cell_type": "code",
   "execution_count": null,
   "id": "cab288c1",
   "metadata": {},
   "outputs": [],
   "source": [
    "df.show()"
   ]
  },
  {
   "cell_type": "markdown",
   "id": "57136c1d",
   "metadata": {},
   "source": [
    "COMMAND ----------"
   ]
  },
  {
   "cell_type": "markdown",
   "id": "6b5e35fe",
   "metadata": {},
   "source": [
    "faz a formatação em apenas um passo, cria o campo e já formata a data"
   ]
  },
  {
   "cell_type": "code",
   "execution_count": null,
   "id": "c49bbb65",
   "metadata": {},
   "outputs": [],
   "source": [
    "df = df.withColumn(\"data_ja_formatada\",date_format(to_date(df.data_venda,'yyyy/MM/dd'),'dd/MM/yyyy'))"
   ]
  },
  {
   "cell_type": "markdown",
   "id": "40e7541f",
   "metadata": {},
   "source": [
    "COMMAND ----------"
   ]
  },
  {
   "cell_type": "code",
   "execution_count": null,
   "id": "ddd0717a",
   "metadata": {},
   "outputs": [],
   "source": [
    "df.show()"
   ]
  },
  {
   "cell_type": "markdown",
   "id": "1db0b4f9",
   "metadata": {},
   "source": [
    "COMMAND ----------"
   ]
  },
  {
   "cell_type": "code",
   "execution_count": null,
   "id": "a5377c9e",
   "metadata": {
    "lines_to_next_cell": 2
   },
   "outputs": [],
   "source": [
    "# utilizando as funções de mês , data hora, e etc (year, month)\n",
    "from pyspark.sql.functions import year, month"
   ]
  },
  {
   "cell_type": "code",
   "execution_count": null,
   "id": "c612596f",
   "metadata": {
    "lines_to_next_cell": 2
   },
   "outputs": [],
   "source": [
    "df.withColumn(\"year\",year(df.data_venda)).show()\n",
    "df.withColumn(\"month\",month(df.data_venda)).show()"
   ]
  },
  {
   "cell_type": "markdown",
   "id": "6cdfa435",
   "metadata": {
    "lines_to_next_cell": 2
   },
   "source": [
    "COMMAND ----------"
   ]
  }
 ],
 "metadata": {
  "jupytext": {
   "cell_metadata_filter": "-all",
   "main_language": "python",
   "notebook_metadata_filter": "-all"
  }
 },
 "nbformat": 4,
 "nbformat_minor": 5
}
