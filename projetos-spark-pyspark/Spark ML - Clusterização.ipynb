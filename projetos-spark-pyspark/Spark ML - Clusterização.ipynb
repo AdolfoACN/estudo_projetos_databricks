{
 "cells": [
  {
   "cell_type": "markdown",
   "id": "cecc1303",
   "metadata": {},
   "source": [
    "Databricks notebook source\n",
    "#clusterização, tipo de técnica , para aprendizado não supervisionado , o algorítimo cria cluster, as classificações"
   ]
  },
  {
   "cell_type": "code",
   "execution_count": null,
   "id": "827e4b4a",
   "metadata": {},
   "outputs": [],
   "source": [
    "df = spark.read.csv('/FileStore/tables/imoveis-4.csv', header =True, inferSchema =True)"
   ]
  },
  {
   "cell_type": "code",
   "execution_count": null,
   "id": "8077cd70",
   "metadata": {},
   "outputs": [],
   "source": []
  },
  {
   "cell_type": "markdown",
   "id": "a1e36ab2",
   "metadata": {},
   "source": [
    "COMMAND ----------"
   ]
  },
  {
   "cell_type": "code",
   "execution_count": null,
   "id": "fb95beb8",
   "metadata": {},
   "outputs": [],
   "source": [
    "df.show()"
   ]
  },
  {
   "cell_type": "markdown",
   "id": "563cc50e",
   "metadata": {},
   "source": [
    "COMMAND ----------"
   ]
  },
  {
   "cell_type": "markdown",
   "id": "82a8cc73",
   "metadata": {},
   "source": [
    "importando todas as bibliotecas que serão utilizadas"
   ]
  },
  {
   "cell_type": "code",
   "execution_count": null,
   "id": "250ad071",
   "metadata": {},
   "outputs": [],
   "source": [
    "from pyspark.ml.clustering import KMeans\n",
    "from pyspark.ml.evaluation import ClusteringEvaluator\n",
    "from pyspark.ml.feature import VectorAssembler\n",
    "import logging \n",
    "import matplotlib.pyplot as plt # visualizando graficamente as informações\n",
    "import numpy as np"
   ]
  },
  {
   "cell_type": "code",
   "execution_count": null,
   "id": "ed175ca5",
   "metadata": {},
   "outputs": [],
   "source": [
    "# Configurando o logging\n",
    "logger = logging.getLogger(\"py4j\")\n",
    "logger.setLevel(logging.INFO)"
   ]
  },
  {
   "cell_type": "code",
   "execution_count": null,
   "id": "4faa2fd7",
   "metadata": {},
   "outputs": [],
   "source": [
    "# Carregando os dados em um dataframea\n",
    "logger.info(\"Carregando os dados...\")\n",
    "df =  spark.read.format(\"csv\").option(\"header\",\"true\").option(\"inferSchema\",\"true\").load(\"/FileStore/tables/imoveis-4.csv\")"
   ]
  },
  {
   "cell_type": "markdown",
   "id": "28cf4085",
   "metadata": {},
   "source": [
    "Selecionando as colunas que serão utilizadas no modelo"
   ]
  },
  {
   "cell_type": "code",
   "execution_count": null,
   "id": "20023f78",
   "metadata": {},
   "outputs": [],
   "source": [
    "logger.info(\"Preparando os dados...\")\n",
    "assembler = VectorAssembler(inputCols=[\"Idade\",\"Salario\",\"PontuacaoGasto\"],outputCol=\"features\")\n",
    "data = assembler.transform(df).select(\"features\")"
   ]
  },
  {
   "cell_type": "code",
   "execution_count": null,
   "id": "2989ade7",
   "metadata": {},
   "outputs": [],
   "source": [
    "# Treinando o modelo com o K-Means\n",
    "logger.info (\"Treinando o modelo K-Means...\")\n",
    "kmeans = KMeans().setK(3).setSeed(1) # quantidade de cluster ()\n",
    "model = kmeans.fit(data)"
   ]
  },
  {
   "cell_type": "markdown",
   "id": "3aedbfad",
   "metadata": {},
   "source": [
    "Fazendo as previsões"
   ]
  },
  {
   "cell_type": "code",
   "execution_count": null,
   "id": "24ba67f2",
   "metadata": {},
   "outputs": [],
   "source": [
    "logger.info(\"Faazendo as previsões...\")\n",
    "evaluator = ClusteringEvaluator()\n",
    "silhouette = evaluator.evaluate(predictions)\n",
    "print(\"Selhouette with squared euclidean distance = \" + str(silhouette))"
   ]
  },
  {
   "cell_type": "code",
   "execution_count": null,
   "id": "0aa8e3d9",
   "metadata": {
    "lines_to_next_cell": 2
   },
   "outputs": [],
   "source": [
    "# Visualizando os resultados\n",
    "logger.info(\"Visualizando os resultados graficamente...\")\n",
    "# Convertendo o DataFrame Spark para Pandas\n",
    "pd_predictions = predictions.toPandas()"
   ]
  },
  {
   "cell_type": "markdown",
   "id": "7bd903bf",
   "metadata": {},
   "source": [
    "Extraindo os centros dos clusters"
   ]
  },
  {
   "cell_type": "code",
   "execution_count": null,
   "id": "cb2a22c2",
   "metadata": {},
   "outputs": [],
   "source": [
    "centers = np.array(model.clusterCenters())"
   ]
  },
  {
   "cell_type": "markdown",
   "id": "a882e7d2",
   "metadata": {},
   "source": [
    "Plotando os dados"
   ]
  },
  {
   "cell_type": "code",
   "execution_count": null,
   "id": "770218c3",
   "metadata": {},
   "outputs": [],
   "source": [
    "plt.scatter(pd_predictions['features'].apply(lambda x: x[0]), # Idade\n",
    "            pd_predictions['features'].apply(lambda x: x[1]), # Salario\n",
    "            c=pd_predictions['prediction'] ,cmap ='viridis')\n",
    "# Plotando os centros os clusters"
   ]
  },
  {
   "cell_type": "code",
   "execution_count": null,
   "id": "7b025972",
   "metadata": {},
   "outputs": [],
   "source": [
    "plt.scatter(centers[:,0],centres[:,1],c='red',s=200,alpha=0.75,marker='X')"
   ]
  },
  {
   "cell_type": "code",
   "execution_count": null,
   "id": "4663f666",
   "metadata": {},
   "outputs": [],
   "source": [
    "plt.xlabel('Idade')\n",
    "plt.ylabel('Salario')\n",
    "plt.show()"
   ]
  },
  {
   "cell_type": "markdown",
   "id": "923a4241",
   "metadata": {
    "lines_to_next_cell": 2
   },
   "source": [
    "COMMAND ----------"
   ]
  }
 ],
 "metadata": {
  "jupytext": {
   "cell_metadata_filter": "-all",
   "main_language": "python",
   "notebook_metadata_filter": "-all"
  }
 },
 "nbformat": 4,
 "nbformat_minor": 5
}
