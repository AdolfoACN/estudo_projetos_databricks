{
 "cells": [
  {
   "cell_type": "markdown",
   "id": "b3f0cdab",
   "metadata": {},
   "source": [
    "Databricks notebook source"
   ]
  }
 ],
 "metadata": {
  "jupytext": {
   "cell_metadata_filter": "-all",
   "main_language": "python",
   "notebook_metadata_filter": "-all"
  }
 },
 "nbformat": 4,
 "nbformat_minor": 5
}
