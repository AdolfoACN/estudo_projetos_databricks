{
 "cells": [
  {
   "cell_type": "code",
   "execution_count": null,
   "id": "fe29de7a",
   "metadata": {},
   "outputs": [],
   "source": [
    "# Databricks notebook source\n",
    "s"
   ]
  }
 ],
 "metadata": {
  "jupytext": {
   "cell_metadata_filter": "-all",
   "main_language": "python",
   "notebook_metadata_filter": "-all"
  }
 },
 "nbformat": 4,
 "nbformat_minor": 5
}
