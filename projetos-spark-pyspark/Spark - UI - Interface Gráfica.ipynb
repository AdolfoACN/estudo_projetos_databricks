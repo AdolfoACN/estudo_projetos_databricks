{
 "cells": [
  {
   "cell_type": "markdown",
   "id": "b6d566f8",
   "metadata": {},
   "source": [
    "Databricks notebook source\n",
    "MAGIC %md\n",
    "MAGIC SPARK UI\n",
    "MAGIC\n",
    "MAGIC ​O Spark UI é uma interface web que fornece informações detalhadas sobre a execução de tarefas, estágios, armazenamento, execução de jobs, e outros detalhes do ambiente de execução do Spark. \n",
    "MAGIC Ele é uma ferramenta indispensável para depurar e otimizar aplicações Spark."
   ]
  },
  {
   "cell_type": "markdown",
   "id": "d480ddfa",
   "metadata": {},
   "source": [
    "COMMAND ----------"
   ]
  },
  {
   "cell_type": "code",
   "execution_count": null,
   "id": "18adb3b7",
   "metadata": {},
   "outputs": [],
   "source": [
    "data = [(1,\"A\"),(2,\"B\"),(3,\"C\")]\n",
    "df = spark.createDataFrame(data, [\"id\",\"value\"])"
   ]
  },
  {
   "cell_type": "code",
   "execution_count": null,
   "id": "51454d70",
   "metadata": {
    "lines_to_next_cell": 2
   },
   "outputs": [],
   "source": [
    "df.cache()"
   ]
  },
  {
   "cell_type": "code",
   "execution_count": null,
   "id": "aaacd8e1",
   "metadata": {},
   "outputs": [],
   "source": [
    "df.groupBy(\"value\").count().show()"
   ]
  },
  {
   "cell_type": "code",
   "execution_count": null,
   "id": "24e8bf80",
   "metadata": {},
   "outputs": [],
   "source": [
    "df.show()"
   ]
  }
 ],
 "metadata": {
  "jupytext": {
   "cell_metadata_filter": "-all",
   "main_language": "python",
   "notebook_metadata_filter": "-all"
  }
 },
 "nbformat": 4,
 "nbformat_minor": 5
}
