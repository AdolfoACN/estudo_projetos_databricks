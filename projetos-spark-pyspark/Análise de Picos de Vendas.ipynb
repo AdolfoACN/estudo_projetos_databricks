{
 "cells": [
  {
   "cell_type": "code",
   "execution_count": null,
   "id": "8fff4714",
   "metadata": {},
   "outputs": [],
   "source": [
    "# Databricks notebook source\n",
    "df =  spark.read.csv(\"/FileStore/tables/sales_data_analise_dados_hist.csv\", header = True , inferSchema=True )\n",
    "from pyspark.sql import functions as F"
   ]
  },
  {
   "cell_type": "markdown",
   "id": "c095b492",
   "metadata": {},
   "source": [
    "COMMAND ----------"
   ]
  },
  {
   "cell_type": "code",
   "execution_count": null,
   "id": "8a4ed6c0",
   "metadata": {},
   "outputs": [],
   "source": [
    "df.show()"
   ]
  },
  {
   "cell_type": "markdown",
   "id": "8a90682b",
   "metadata": {},
   "source": [
    "COMMAND ----------"
   ]
  },
  {
   "cell_type": "code",
   "execution_count": null,
   "id": "00674426",
   "metadata": {},
   "outputs": [],
   "source": [
    "sales_by_day = df.groupBy('sale_date').agg(F.sum('sales_amount').alias ('daily_sales'))"
   ]
  },
  {
   "cell_type": "code",
   "execution_count": null,
   "id": "8689ea2e",
   "metadata": {
    "lines_to_next_cell": 2
   },
   "outputs": [],
   "source": [
    "sales_by_day.orderBy(F.desc('daily_sales')).show()"
   ]
  },
  {
   "cell_type": "markdown",
   "id": "1faa159f",
   "metadata": {},
   "source": [
    "COMMAND ----------"
   ]
  },
  {
   "cell_type": "markdown",
   "id": "87f2d5ab",
   "metadata": {},
   "source": [
    "# buscando os top 5 maiores vendas e datas correspondentes"
   ]
  },
  {
   "cell_type": "code",
   "execution_count": null,
   "id": "3edf37c3",
   "metadata": {},
   "outputs": [],
   "source": [
    "top_sales_day = sales_by_day.orderBy(F.desc('daily_sales')).limit(5)"
   ]
  },
  {
   "cell_type": "code",
   "execution_count": null,
   "id": "ef6038dc",
   "metadata": {
    "lines_to_next_cell": 2
   },
   "outputs": [],
   "source": [
    "top_sales_day.show()"
   ]
  },
  {
   "cell_type": "markdown",
   "id": "338e2c9a",
   "metadata": {},
   "source": [
    "COMMAND ----------"
   ]
  },
  {
   "cell_type": "markdown",
   "id": "626cb612",
   "metadata": {},
   "source": [
    "# houve uma promoção neste dia? ela impactou o pico de vendas?"
   ]
  },
  {
   "cell_type": "code",
   "execution_count": null,
   "id": "14b88c90",
   "metadata": {},
   "outputs": [],
   "source": [
    "promo_days = df.filter(df.promotion == True).groupBy('sale_date').agg(F.sum('sales_amount').alias('sales_on_promo'))"
   ]
  },
  {
   "cell_type": "code",
   "execution_count": null,
   "id": "4c3bf743",
   "metadata": {
    "lines_to_next_cell": 2
   },
   "outputs": [],
   "source": [
    "promo_days.orderBy(F.desc('sales_on_promo')).show()"
   ]
  },
  {
   "cell_type": "markdown",
   "id": "b9d2dec0",
   "metadata": {},
   "source": [
    "COMMAND ----------"
   ]
  },
  {
   "cell_type": "markdown",
   "id": "dfc71745",
   "metadata": {},
   "source": [
    "# impacto avaliações positivas/não positivas influenciam nos valores vendidos(quantidades)"
   ]
  },
  {
   "cell_type": "code",
   "execution_count": null,
   "id": "af85759e",
   "metadata": {},
   "outputs": [],
   "source": [
    "rating_sales_relation = df.groupBy('sale_date').agg(F.avg('rating').alias('average_rating'), F.sum('sales_amount').alias('daily_sales'))"
   ]
  },
  {
   "cell_type": "code",
   "execution_count": null,
   "id": "b3a40b5f",
   "metadata": {},
   "outputs": [],
   "source": [
    "rating_sales_relation.orderBy(F.desc('daily_sales')).show(10)"
   ]
  }
 ],
 "metadata": {
  "jupytext": {
   "cell_metadata_filter": "-all",
   "main_language": "python",
   "notebook_metadata_filter": "-all"
  }
 },
 "nbformat": 4,
 "nbformat_minor": 5
}
