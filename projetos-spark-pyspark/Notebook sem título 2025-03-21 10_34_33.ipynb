{
 "cells": [
  {
   "cell_type": "code",
   "execution_count": null,
   "id": "60b5148d",
   "metadata": {},
   "outputs": [],
   "source": [
    "# Databricks notebook source\n",
    "sp_beaches = spark.read.csv(\"/FileStore/tables/carga/sp_beaches.csv\", header = True, InferSchema = True)"
   ]
  }
 ],
 "metadata": {
  "jupytext": {
   "cell_metadata_filter": "-all",
   "main_language": "python",
   "notebook_metadata_filter": "-all"
  }
 },
 "nbformat": 4,
 "nbformat_minor": 5
}
