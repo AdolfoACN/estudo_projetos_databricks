{
 "cells": [
  {
   "cell_type": "code",
   "execution_count": null,
   "id": "efdb9610",
   "metadata": {},
   "outputs": [],
   "source": [
    "# Databricks notebook source\n",
    "from pyspark.sql.functions import count, sum, avg, max, min"
   ]
  },
  {
   "cell_type": "markdown",
   "id": "a47a2622",
   "metadata": {},
   "source": [
    "COMMAND ----------"
   ]
  },
  {
   "cell_type": "code",
   "execution_count": null,
   "id": "7afa3330",
   "metadata": {},
   "outputs": [],
   "source": [
    "df_beaches = spark.read.csv(\"/FileStore/tables/sp_beaches-2.csv\", header = True , inferSchema = True)"
   ]
  },
  {
   "cell_type": "markdown",
   "id": "fe256399",
   "metadata": {},
   "source": [
    "COMMAND ----------"
   ]
  },
  {
   "cell_type": "code",
   "execution_count": null,
   "id": "d8f02ff0",
   "metadata": {},
   "outputs": [],
   "source": [
    "df_beaches.select(count('Enterococcus').alias('count_Enterococus'),sum('Enterococcus').alias('sum_Enterococus'),avg('Enterococcus').alias('avg_Enterococus')).show()"
   ]
  },
  {
   "cell_type": "markdown",
   "id": "e13dc2c7",
   "metadata": {},
   "source": [
    "COMMAND ----------"
   ]
  },
  {
   "cell_type": "code",
   "execution_count": null,
   "id": "c7444577",
   "metadata": {},
   "outputs": [],
   "source": [
    "df_beaches.select(max('Enterococcus').alias('min_Enterococus'),min('Enterococcus').alias('min_Enterococus')).show()"
   ]
  },
  {
   "cell_type": "markdown",
   "id": "11837752",
   "metadata": {},
   "source": [
    "COMMAND ----------"
   ]
  },
  {
   "cell_type": "code",
   "execution_count": null,
   "id": "909bd80b",
   "metadata": {},
   "outputs": [],
   "source": [
    "# agregação com group by\n",
    "# funções de agregações são otimizadas para processar grande volume de dados\n",
    "df_beaches.groupBy('City').agg(max('Enterococcus').alias('min_Enterococus'),min('Enterococcus').alias('min_Enterococus')).show()"
   ]
  },
  {
   "cell_type": "markdown",
   "id": "cac750c6",
   "metadata": {
    "lines_to_next_cell": 2
   },
   "source": [
    "COMMAND ----------"
   ]
  }
 ],
 "metadata": {
  "jupytext": {
   "cell_metadata_filter": "-all",
   "main_language": "python",
   "notebook_metadata_filter": "-all"
  }
 },
 "nbformat": 4,
 "nbformat_minor": 5
}
