{
 "cells": [
  {
   "cell_type": "code",
   "execution_count": null,
   "id": "69f38887",
   "metadata": {},
   "outputs": [],
   "source": [
    "# Databricks notebook source\n",
    "sp_beaches = spark.read.csv ( \"/FileStore/tables/sp_beaches.csv\", header = True, inferSchema = True )"
   ]
  },
  {
   "cell_type": "code",
   "execution_count": null,
   "id": "4125f3aa",
   "metadata": {},
   "outputs": [],
   "source": [
    "display(sp_beaches)"
   ]
  },
  {
   "cell_type": "markdown",
   "id": "82cef433",
   "metadata": {},
   "source": [
    "COMMAND ----------"
   ]
  },
  {
   "cell_type": "code",
   "execution_count": null,
   "id": "f24d1077",
   "metadata": {
    "lines_to_next_cell": 2
   },
   "outputs": [],
   "source": [
    "filtered_beaches_df = sp_beaches.filter(\" City == 'SANTOS' \")"
   ]
  },
  {
   "cell_type": "markdown",
   "id": "8cc016fe",
   "metadata": {},
   "source": [
    "COMMAND ----------"
   ]
  },
  {
   "cell_type": "code",
   "execution_count": null,
   "id": "822957b5",
   "metadata": {},
   "outputs": [],
   "source": [
    "from pyspark.sql.functions import asc # importando a função asc para permitir a ordenação\n",
    "## aplica order by\n",
    "sorted_beaches_df = filtered_beaches_df.orderBy (asc(\"Date\"))"
   ]
  },
  {
   "cell_type": "markdown",
   "id": "424b2e12",
   "metadata": {},
   "source": [
    "COMMAND ----------"
   ]
  },
  {
   "cell_type": "code",
   "execution_count": null,
   "id": "22afaa1f",
   "metadata": {},
   "outputs": [],
   "source": [
    "sorted_beaches_df.explain()"
   ]
  },
  {
   "cell_type": "markdown",
   "id": "1314c2fd",
   "metadata": {},
   "source": [
    "COMMAND ----------"
   ]
  },
  {
   "cell_type": "markdown",
   "id": "f93f8bf3",
   "metadata": {},
   "source": [
    "demonstra resultado parcial até o order by"
   ]
  },
  {
   "cell_type": "code",
   "execution_count": null,
   "id": "c8d85939",
   "metadata": {},
   "outputs": [],
   "source": [
    "sorted_beaches_df.show()"
   ]
  }
 ],
 "metadata": {
  "jupytext": {
   "cell_metadata_filter": "-all",
   "main_language": "python",
   "notebook_metadata_filter": "-all"
  }
 },
 "nbformat": 4,
 "nbformat_minor": 5
}
