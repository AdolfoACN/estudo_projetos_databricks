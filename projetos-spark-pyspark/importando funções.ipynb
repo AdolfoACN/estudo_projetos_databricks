{
 "cells": [
  {
   "cell_type": "code",
   "execution_count": null,
   "id": "f3bee55f",
   "metadata": {},
   "outputs": [],
   "source": [
    "# Databricks notebook source\n",
    "from pyspark.sql import functions as f"
   ]
  },
  {
   "cell_type": "markdown",
   "id": "fb74293d",
   "metadata": {},
   "source": [
    "COMMAND ----------"
   ]
  },
  {
   "cell_type": "code",
   "execution_count": null,
   "id": "e36ce113",
   "metadata": {
    "lines_to_next_cell": 2
   },
   "outputs": [],
   "source": [
    "df_beaches = spark.read.csv( \"/FileStore/tables/sp_beaches.csv\", header = True, inferSchema = True )"
   ]
  },
  {
   "cell_type": "markdown",
   "id": "8faa2de3",
   "metadata": {},
   "source": [
    "COMMAND ----------"
   ]
  },
  {
   "cell_type": "markdown",
   "id": "6b6cd00f",
   "metadata": {},
   "source": [
    "Criando uma coluna nova, e usando minha função f, para dar um upper nessa coluna, usando como referência , minha coluna City"
   ]
  },
  {
   "cell_type": "code",
   "execution_count": null,
   "id": "8b53d280",
   "metadata": {},
   "outputs": [],
   "source": [
    "beaches_upper = df_beaches.withColumn('order_id_upper',f.upper(f.col('City').cast('string')))"
   ]
  },
  {
   "cell_type": "markdown",
   "id": "f266b8ef",
   "metadata": {},
   "source": [
    "COMMAND ----------"
   ]
  },
  {
   "cell_type": "code",
   "execution_count": null,
   "id": "41f85ad0",
   "metadata": {},
   "outputs": [],
   "source": [
    "beaches_upper.show()"
   ]
  },
  {
   "cell_type": "markdown",
   "id": "c7e308e0",
   "metadata": {},
   "source": [
    "COMMAND ----------"
   ]
  },
  {
   "cell_type": "markdown",
   "id": "244e03b6",
   "metadata": {},
   "source": [
    "fazer a raiz quadrada, da coluna enterococus, poderia e funciona melhor em uma coluna de valores monetários (double)"
   ]
  },
  {
   "cell_type": "code",
   "execution_count": null,
   "id": "209beb39",
   "metadata": {},
   "outputs": [],
   "source": [
    "entero_sqrt = df_beaches.withColumn('entero_sqrt_value',f.sqrt(f.col('Enterococcus')))"
   ]
  },
  {
   "cell_type": "markdown",
   "id": "fc1f2c4e",
   "metadata": {},
   "source": [
    "COMMAND ----------"
   ]
  },
  {
   "cell_type": "code",
   "execution_count": null,
   "id": "adffca7e",
   "metadata": {},
   "outputs": [],
   "source": [
    "entero_sqrt.show()"
   ]
  },
  {
   "cell_type": "markdown",
   "id": "c652e180",
   "metadata": {},
   "source": [
    "COMMAND ----------"
   ]
  },
  {
   "cell_type": "markdown",
   "id": "29e9a692",
   "metadata": {},
   "source": [
    "função de agregação nesse caso eu vou criar uma coluna com o .alias"
   ]
  },
  {
   "cell_type": "code",
   "execution_count": null,
   "id": "75f2546b",
   "metadata": {},
   "outputs": [],
   "source": [
    "total_enterococus = df_beaches.agg(f.sum('Enterococcus').alias('total_enterococcus'))"
   ]
  },
  {
   "cell_type": "markdown",
   "id": "99ad4650",
   "metadata": {},
   "source": [
    "COMMAND ----------"
   ]
  },
  {
   "cell_type": "code",
   "execution_count": null,
   "id": "f002bddd",
   "metadata": {},
   "outputs": [],
   "source": [
    "total_enterococus.show()"
   ]
  },
  {
   "cell_type": "markdown",
   "id": "d5889552",
   "metadata": {},
   "source": [
    "COMMAND ----------"
   ]
  },
  {
   "cell_type": "code",
   "execution_count": null,
   "id": "fbd58145",
   "metadata": {},
   "outputs": [],
   "source": [
    "beaches_datetime = df_beaches.withColumn('Current_Timestamp',f.current_date())"
   ]
  },
  {
   "cell_type": "markdown",
   "id": "776ff0f5",
   "metadata": {},
   "source": [
    "COMMAND ----------"
   ]
  },
  {
   "cell_type": "code",
   "execution_count": null,
   "id": "2aafbfe7",
   "metadata": {},
   "outputs": [],
   "source": [
    "beaches_datetime.show()"
   ]
  },
  {
   "cell_type": "markdown",
   "id": "a9a838ba",
   "metadata": {},
   "source": [
    "COMMAND ----------"
   ]
  },
  {
   "cell_type": "markdown",
   "id": "e1c80761",
   "metadata": {},
   "source": [
    "cálculo de linhas baseados nos valores dos eterococcus importando a função window"
   ]
  },
  {
   "cell_type": "code",
   "execution_count": null,
   "id": "5e37bad2",
   "metadata": {},
   "outputs": [],
   "source": [
    "from pyspark.sql.window import Window as w"
   ]
  },
  {
   "cell_type": "code",
   "execution_count": null,
   "id": "0f00143a",
   "metadata": {
    "lines_to_next_cell": 2
   },
   "outputs": [],
   "source": []
  },
  {
   "cell_type": "markdown",
   "id": "af7fc166",
   "metadata": {},
   "source": [
    "COMMAND ----------"
   ]
  },
  {
   "cell_type": "code",
   "execution_count": null,
   "id": "22e2b69f",
   "metadata": {},
   "outputs": [],
   "source": [
    "windowsSpec = w.orderBy ('Enterococcus')"
   ]
  },
  {
   "cell_type": "code",
   "execution_count": null,
   "id": "186a877e",
   "metadata": {},
   "outputs": [],
   "source": []
  },
  {
   "cell_type": "markdown",
   "id": "78282b58",
   "metadata": {},
   "source": [
    "COMMAND ----------"
   ]
  },
  {
   "cell_type": "markdown",
   "id": "65b4239e",
   "metadata": {},
   "source": [
    "na coluna nova criada, a ordenação utilizada será de outra coluna, no caso a de número de enterococcus, já o row number, vai colocar em uma classificação da menor para o maior, a função row_number, precisa buscar a última informação dentro de uma tabela, informação mais atual, última atualização"
   ]
  },
  {
   "cell_type": "code",
   "execution_count": null,
   "id": "fd00ca8a",
   "metadata": {},
   "outputs": [],
   "source": [
    "beaches_row_number = df_beaches.withColumn('row_number',f.row_number().over(windowsSpec))"
   ]
  },
  {
   "cell_type": "markdown",
   "id": "15d8dcb0",
   "metadata": {},
   "source": [
    "COMMAND ----------"
   ]
  },
  {
   "cell_type": "code",
   "execution_count": null,
   "id": "c91a8834",
   "metadata": {},
   "outputs": [],
   "source": [
    "beaches_row_number.show()"
   ]
  },
  {
   "cell_type": "markdown",
   "id": "4b8f7efb",
   "metadata": {},
   "source": [
    "COMMAND ----------"
   ]
  },
  {
   "cell_type": "markdown",
   "id": "9951f537",
   "metadata": {
    "lines_to_next_cell": 2
   },
   "source": [
    "utilizando a função rank"
   ]
  },
  {
   "cell_type": "code",
   "execution_count": null,
   "id": "573dcdd9",
   "metadata": {},
   "outputs": [],
   "source": [
    "windowsSpec = w.orderBy ('Enterococcus')\n",
    "beaches_with_rank = df_beaches.withColumn('rank',f.rank().over(windowsSpec))"
   ]
  },
  {
   "cell_type": "markdown",
   "id": "23c3ff1b",
   "metadata": {},
   "source": [
    "COMMAND ----------"
   ]
  },
  {
   "cell_type": "code",
   "execution_count": null,
   "id": "bd18d608",
   "metadata": {},
   "outputs": [],
   "source": [
    "beaches_with_rank.show ()"
   ]
  },
  {
   "cell_type": "markdown",
   "id": "7eac83f4",
   "metadata": {},
   "source": [
    "COMMAND ----------"
   ]
  },
  {
   "cell_type": "markdown",
   "id": "f94fd636",
   "metadata": {},
   "source": [
    "fazendo o particionamento por 2 novas colunas e ordenando de maneira descendente"
   ]
  },
  {
   "cell_type": "code",
   "execution_count": null,
   "id": "cd6443d7",
   "metadata": {},
   "outputs": [],
   "source": [
    "windowsSpec = w.partitionBy ('City').orderBy(f.desc('Enterococcus'))"
   ]
  },
  {
   "cell_type": "code",
   "execution_count": null,
   "id": "4b4cf349",
   "metadata": {
    "lines_to_next_cell": 2
   },
   "outputs": [],
   "source": [
    "beaches_with_rank = df_beaches.withColumn('rank',f.rank().over(windowsSpec))"
   ]
  },
  {
   "cell_type": "markdown",
   "id": "a0f26609",
   "metadata": {},
   "source": [
    "COMMAND ----------"
   ]
  },
  {
   "cell_type": "code",
   "execution_count": null,
   "id": "c3332142",
   "metadata": {},
   "outputs": [],
   "source": [
    "beaches_with_rank.show()"
   ]
  },
  {
   "cell_type": "markdown",
   "id": "d0761e57",
   "metadata": {},
   "source": [
    "COMMAND ----------"
   ]
  },
  {
   "cell_type": "markdown",
   "id": "a5a2b7e5",
   "metadata": {},
   "source": [
    "aqui estou filtrando todas as cidades com mais enterococcus ( numero 1 no rank)"
   ]
  },
  {
   "cell_type": "code",
   "execution_count": null,
   "id": "334ca74a",
   "metadata": {},
   "outputs": [],
   "source": [
    "beaches_with_rank_filtered = beaches_with_rank.filter(f.col('rank')==1)"
   ]
  },
  {
   "cell_type": "markdown",
   "id": "6b5e5a71",
   "metadata": {},
   "source": [
    "COMMAND ----------"
   ]
  },
  {
   "cell_type": "code",
   "execution_count": null,
   "id": "9f619897",
   "metadata": {},
   "outputs": [],
   "source": [
    "beaches_with_rank_filtered.show()"
   ]
  },
  {
   "cell_type": "markdown",
   "id": "2fd5129f",
   "metadata": {},
   "source": [
    "COMMAND ----------"
   ]
  },
  {
   "cell_type": "markdown",
   "id": "c17f1d4c",
   "metadata": {},
   "source": [
    "utilizar o rank dense ( denso )"
   ]
  },
  {
   "cell_type": "code",
   "execution_count": null,
   "id": "364d237c",
   "metadata": {},
   "outputs": [],
   "source": [
    "windowsSpec = w.orderBy ('Enterococcus')\n",
    "beaches_with_dense_rank = df_beaches.withColumn('dense_rank',f.dense_rank().over(windowsSpec))"
   ]
  },
  {
   "cell_type": "markdown",
   "id": "06236df9",
   "metadata": {},
   "source": [
    "COMMAND ----------"
   ]
  },
  {
   "cell_type": "code",
   "execution_count": null,
   "id": "8a59533c",
   "metadata": {},
   "outputs": [],
   "source": [
    "beaches_with_dense_rank.show()"
   ]
  }
 ],
 "metadata": {
  "jupytext": {
   "cell_metadata_filter": "-all",
   "main_language": "python",
   "notebook_metadata_filter": "-all"
  }
 },
 "nbformat": 4,
 "nbformat_minor": 5
}
