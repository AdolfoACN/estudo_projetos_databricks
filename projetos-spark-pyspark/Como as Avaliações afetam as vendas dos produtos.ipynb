{
 "cells": [
  {
   "cell_type": "code",
   "execution_count": null,
   "id": "4885260a",
   "metadata": {},
   "outputs": [],
   "source": [
    "# Databricks notebook source\n",
    "df =  spark.read.csv(\"/FileStore/tables/sales_data_analise_dados_hist.csv\", header = True , inferSchema=True )\n",
    "from pyspark.sql import functions as F"
   ]
  },
  {
   "cell_type": "markdown",
   "id": "1152698c",
   "metadata": {},
   "source": [
    "COMMAND ----------"
   ]
  },
  {
   "cell_type": "code",
   "execution_count": null,
   "id": "6097fc65",
   "metadata": {},
   "outputs": [],
   "source": [
    "df.show()"
   ]
  },
  {
   "cell_type": "markdown",
   "id": "1ade084f",
   "metadata": {},
   "source": [
    "COMMAND ----------"
   ]
  },
  {
   "cell_type": "markdown",
   "id": "98bf79e8",
   "metadata": {},
   "source": [
    "# verificando a avaliação média total, e as vendas totais, para sabermos se há correspondência entre as avaliações e as vendas\n",
    "# agrupar por produto, fazer a média do rating ( avaliação ), e somar o total de vendas"
   ]
  },
  {
   "cell_type": "code",
   "execution_count": null,
   "id": "67f90bc3",
   "metadata": {},
   "outputs": [],
   "source": [
    "product_rating_sale = df.groupBy('product_name').agg(F.avg('rating').alias('average_rating'), F.sum('sales_amount').alias('total_sales'))"
   ]
  },
  {
   "cell_type": "code",
   "execution_count": null,
   "id": "8e2fe188",
   "metadata": {
    "lines_to_next_cell": 2
   },
   "outputs": [],
   "source": [
    "product_rating_sale.orderBy(F.desc('average_rating')).show()"
   ]
  },
  {
   "cell_type": "markdown",
   "id": "c81062fd",
   "metadata": {},
   "source": [
    "COMMAND ----------"
   ]
  },
  {
   "cell_type": "markdown",
   "id": "b97f9c53",
   "metadata": {},
   "source": [
    "# Verificar os produtos mais vendidos, porém que contém as avaliações mais baixas (abaixo da média)\n",
    "# criando dataframe novo, e filtrando o resultado , utilizando o dataframe anterior, apenas pegando as avaliações menores que 3."
   ]
  },
  {
   "cell_type": "code",
   "execution_count": null,
   "id": "6251437b",
   "metadata": {},
   "outputs": [],
   "source": [
    "low_rated_high_sales = product_rating_sale.filter(product_rating_sale.average_rating < 3).orderBy(F.desc('total_sales'))"
   ]
  },
  {
   "cell_type": "code",
   "execution_count": null,
   "id": "bb531a02",
   "metadata": {},
   "outputs": [],
   "source": [
    "low_rated_high_sales.show()"
   ]
  },
  {
   "cell_type": "code",
   "execution_count": null,
   "id": "aacec108",
   "metadata": {},
   "outputs": [],
   "source": []
  },
  {
   "cell_type": "code",
   "execution_count": null,
   "id": "85a21dd7",
   "metadata": {},
   "outputs": [],
   "source": []
  },
  {
   "cell_type": "markdown",
   "id": "0f35fa9b",
   "metadata": {},
   "source": [
    "COMMAND ----------"
   ]
  },
  {
   "cell_type": "markdown",
   "id": "b3dc190b",
   "metadata": {
    "lines_to_next_cell": 2
   },
   "source": [
    "# verifica se as promoções impulsionam as vendas mesmo dos itens que estão com a avaliação mais baixa ( < 3)\n",
    "# buscando a soma das vendas, dos produtos com menor avaliação ( abaixo de rating < 3),agrupados por nome do produto ( product_name )\n",
    "# neste caso os filtros do data frame, foram realizados anes do agrupamento e agregação ( soma )"
   ]
  },
  {
   "cell_type": "code",
   "execution_count": null,
   "id": "e5cbf34b",
   "metadata": {},
   "outputs": [],
   "source": [
    "low_rated_sales_on_promo = df.filter((df.rating <3) & (df.promotion == True)).groupBy('product_name').agg(F.sum('sales_amount').alias('sales_on_promo'))"
   ]
  },
  {
   "cell_type": "code",
   "execution_count": null,
   "id": "0a103ea3",
   "metadata": {
    "lines_to_next_cell": 2
   },
   "outputs": [],
   "source": [
    "low_rated_sales_on_promo.orderBy(F.desc('sales_on_promo')).show()"
   ]
  },
  {
   "cell_type": "markdown",
   "id": "f05f43a0",
   "metadata": {},
   "source": [
    "COMMAND ----------"
   ]
  },
  {
   "cell_type": "markdown",
   "id": "8accd228",
   "metadata": {},
   "source": [
    "# buscar a quantidade de dias de vendas   agrupado por mês e ano  o total de dias ( mês e ano )"
   ]
  },
  {
   "cell_type": "code",
   "execution_count": null,
   "id": "d38a71ca",
   "metadata": {},
   "outputs": [],
   "source": [
    "total_days = df.groupBy(F.month('sale_date').alias('month'), F.year ('sale_date').alias(\"year\")).agg(F.count('sale_date').alias ('total_days'))"
   ]
  },
  {
   "cell_type": "code",
   "execution_count": null,
   "id": "c1536d85",
   "metadata": {},
   "outputs": [],
   "source": [
    "total_days.orderBy('year','month').show()"
   ]
  },
  {
   "cell_type": "code",
   "execution_count": null,
   "id": "587cf13d",
   "metadata": {
    "lines_to_next_cell": 2
   },
   "outputs": [],
   "source": []
  },
  {
   "cell_type": "markdown",
   "id": "6251c739",
   "metadata": {},
   "source": [
    "COMMAND ----------"
   ]
  },
  {
   "cell_type": "markdown",
   "id": "f207838e",
   "metadata": {},
   "source": [
    "# melhorar a consulta, buscando todos os produtos que estão com o rating baixo  , e se eles tiveram promoção associadas a ele\n",
    "# mais uma vez PRIMEIRO FILTROS ( WHERE ), depois agrupamento"
   ]
  },
  {
   "cell_type": "code",
   "execution_count": null,
   "id": "76daeee9",
   "metadata": {},
   "outputs": [],
   "source": [
    "total_days_promo = df.filter((df.rating < 3) & (df.promotion == True)).groupBy(F.month('sale_date').alias('month'), F.year ('sale_date').alias(\"year\")).agg(F.count('sale_date').alias ('total_days_promo'))"
   ]
  },
  {
   "cell_type": "code",
   "execution_count": null,
   "id": "6948ff11",
   "metadata": {},
   "outputs": [],
   "source": [
    "total_days_promo.orderBy ('year','month').show()"
   ]
  },
  {
   "cell_type": "markdown",
   "id": "a3561c86",
   "metadata": {},
   "source": [
    "COMMAND ----------"
   ]
  },
  {
   "cell_type": "markdown",
   "id": "5af4abcd",
   "metadata": {},
   "source": [
    "JOIN, dos dataframes total_days_promo com total_days"
   ]
  },
  {
   "cell_type": "code",
   "execution_count": null,
   "id": "f77c5bd0",
   "metadata": {},
   "outputs": [],
   "source": [
    "day_promo_non_promo = total_days_promo.join(total_days, on = ['month','year'])"
   ]
  },
  {
   "cell_type": "code",
   "execution_count": null,
   "id": "001fc524",
   "metadata": {},
   "outputs": [],
   "source": [
    "day_promo_non_promo.orderBy('year','month').show()"
   ]
  },
  {
   "cell_type": "markdown",
   "id": "8e5d37c5",
   "metadata": {},
   "source": [
    "COMMAND ----------"
   ]
  },
  {
   "cell_type": "markdown",
   "id": "eadef2a8",
   "metadata": {},
   "source": [
    "# soma total das vendas dentro do mês, agrupados por mês e ano"
   ]
  },
  {
   "cell_type": "code",
   "execution_count": null,
   "id": "eb94d449",
   "metadata": {},
   "outputs": [],
   "source": [
    "total_days_sales = df.groupBy(F.month('sale_date').alias('month'), F.year ('sale_date').alias(\"year\")).agg(F.sum('sales_amount').alias ('total_sales'))\n",
    "total_days_sales.orderBy('year','month').show()"
   ]
  },
  {
   "cell_type": "code",
   "execution_count": null,
   "id": "12e5cd53",
   "metadata": {},
   "outputs": [],
   "source": []
  },
  {
   "cell_type": "markdown",
   "id": "35289300",
   "metadata": {},
   "source": [
    "COMMAND ----------"
   ]
  },
  {
   "cell_type": "markdown",
   "id": "a5807bb4",
   "metadata": {},
   "source": [
    "total de vendas dos  produtos com baixa avaliação e com promoção"
   ]
  },
  {
   "cell_type": "code",
   "execution_count": null,
   "id": "f673b62a",
   "metadata": {},
   "outputs": [],
   "source": [
    "total_days_sales_promo = df.filter((df.rating < 2) & (df.promotion == True)).groupBy(F.month('sale_date').alias('month'), F.year ('sale_date').alias(\"year\")).agg(F.sum('sales_amount').alias ('total_sales_promo'))"
   ]
  },
  {
   "cell_type": "code",
   "execution_count": null,
   "id": "294831c1",
   "metadata": {
    "lines_to_next_cell": 2
   },
   "outputs": [],
   "source": [
    "total_days_sales_promo.orderBy('year','month').show()"
   ]
  },
  {
   "cell_type": "markdown",
   "id": "00cee759",
   "metadata": {
    "lines_to_next_cell": 2
   },
   "source": [
    "COMMAND ----------"
   ]
  },
  {
   "cell_type": "markdown",
   "id": "a59d9826",
   "metadata": {},
   "source": [
    "#fazer o join de vendas , encadeando todos os data frames anteriores?"
   ]
  },
  {
   "cell_type": "code",
   "execution_count": null,
   "id": "40586507",
   "metadata": {
    "lines_to_next_cell": 2
   },
   "outputs": [],
   "source": [
    "low_rate_sales = total_days_sales.join(total_days_sales_promo, on =['year','month']).join(total_days_promo, on = ['year','month']).join(total_days, on =['month','year'])           "
   ]
  },
  {
   "cell_type": "code",
   "execution_count": null,
   "id": "609b9f97",
   "metadata": {
    "lines_to_next_cell": 2
   },
   "outputs": [],
   "source": [
    "low_rate_sales.orderBy('year','month').show()"
   ]
  },
  {
   "cell_type": "markdown",
   "id": "8f3525b5",
   "metadata": {
    "lines_to_next_cell": 2
   },
   "source": [
    "COMMAND ----------"
   ]
  }
 ],
 "metadata": {
  "jupytext": {
   "cell_metadata_filter": "-all",
   "main_language": "python",
   "notebook_metadata_filter": "-all"
  }
 },
 "nbformat": 4,
 "nbformat_minor": 5
}
