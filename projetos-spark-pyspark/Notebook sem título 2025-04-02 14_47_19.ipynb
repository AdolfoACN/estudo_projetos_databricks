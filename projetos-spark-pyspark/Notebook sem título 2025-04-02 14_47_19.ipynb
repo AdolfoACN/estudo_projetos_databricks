{
 "cells": [
  {
   "cell_type": "code",
   "execution_count": null,
   "id": "e099c880",
   "metadata": {},
   "outputs": [],
   "source": [
    "# Databricks notebook source\n",
    "df = spark.read.csv( \"/FileStore/tables/sales_data_analise_dados.csv\", header = True, inferSchema = True )"
   ]
  },
  {
   "cell_type": "markdown",
   "id": "6dcaca74",
   "metadata": {},
   "source": [
    "COMMAND ----------"
   ]
  },
  {
   "cell_type": "code",
   "execution_count": null,
   "id": "4c890fd5",
   "metadata": {},
   "outputs": [],
   "source": [
    "df.show()"
   ]
  },
  {
   "cell_type": "markdown",
   "id": "2d52b9b8",
   "metadata": {},
   "source": [
    "COMMAND ----------"
   ]
  },
  {
   "cell_type": "code",
   "execution_count": null,
   "id": "263e6503",
   "metadata": {},
   "outputs": [],
   "source": [
    "from pyspark.sql import functions as F"
   ]
  },
  {
   "cell_type": "markdown",
   "id": "c8f887b9",
   "metadata": {},
   "source": [
    "COMMAND ----------"
   ]
  },
  {
   "cell_type": "code",
   "execution_count": null,
   "id": "778ee84b",
   "metadata": {},
   "outputs": [],
   "source": [
    "total_venda_df = df.agg(F.sum('sales_amount')).collect()[0][0]"
   ]
  },
  {
   "cell_type": "markdown",
   "id": "93f5714d",
   "metadata": {},
   "source": [
    "COMMAND ----------"
   ]
  },
  {
   "cell_type": "code",
   "execution_count": null,
   "id": "005152a8",
   "metadata": {},
   "outputs": [],
   "source": [
    "print (total_venda_df)"
   ]
  },
  {
   "cell_type": "markdown",
   "id": "b4cdeed0",
   "metadata": {},
   "source": [
    "COMMAND ----------"
   ]
  },
  {
   "cell_type": "code",
   "execution_count": null,
   "id": "d8ff40b4",
   "metadata": {},
   "outputs": [],
   "source": [
    "vendas_por_mes = df.groupBy(F.month('sale_date').alias('mes')).agg(F.sum('sales_amount').alias('total_vendas'))"
   ]
  },
  {
   "cell_type": "markdown",
   "id": "78f02d41",
   "metadata": {},
   "source": [
    "COMMAND ----------"
   ]
  },
  {
   "cell_type": "code",
   "execution_count": null,
   "id": "838e6594",
   "metadata": {},
   "outputs": [],
   "source": [
    "vendas_por_mes.show()"
   ]
  },
  {
   "cell_type": "markdown",
   "id": "d648524d",
   "metadata": {},
   "source": [
    "COMMAND ----------"
   ]
  },
  {
   "cell_type": "code",
   "execution_count": null,
   "id": "b3083d54",
   "metadata": {},
   "outputs": [],
   "source": [
    "vendas_por_mes = vendas_por_mes.orderBy(F.desc('total_vendas'))"
   ]
  },
  {
   "cell_type": "markdown",
   "id": "f352c32a",
   "metadata": {},
   "source": [
    "COMMAND ----------"
   ]
  },
  {
   "cell_type": "code",
   "execution_count": null,
   "id": "263bbe60",
   "metadata": {},
   "outputs": [],
   "source": [
    "vendas_por_mes.show()"
   ]
  }
 ],
 "metadata": {
  "jupytext": {
   "cell_metadata_filter": "-all",
   "main_language": "python",
   "notebook_metadata_filter": "-all"
  }
 },
 "nbformat": 4,
 "nbformat_minor": 5
}
