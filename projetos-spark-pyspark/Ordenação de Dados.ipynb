{
 "cells": [
  {
   "cell_type": "code",
   "execution_count": null,
   "id": "ec07ccbf",
   "metadata": {},
   "outputs": [],
   "source": [
    "# Databricks notebook source\n",
    "from pyspark.sql.functions import orderBy"
   ]
  },
  {
   "cell_type": "markdown",
   "id": "b5dbb551",
   "metadata": {},
   "source": [
    "COMMAND ----------"
   ]
  },
  {
   "cell_type": "code",
   "execution_count": null,
   "id": "bd55ab88",
   "metadata": {},
   "outputs": [],
   "source": [
    "df = spark.createDataFrame([(1,\"John\"),(2,\"Jane\"),(3,\"Bob\"),(4,\"Mary\")], [\"id\",\"name\"])"
   ]
  },
  {
   "cell_type": "markdown",
   "id": "ad41a121",
   "metadata": {},
   "source": [
    "COMMAND ----------"
   ]
  },
  {
   "cell_type": "code",
   "execution_count": null,
   "id": "de61af55",
   "metadata": {},
   "outputs": [],
   "source": [
    "df.show()"
   ]
  },
  {
   "cell_type": "markdown",
   "id": "9c40fc79",
   "metadata": {},
   "source": [
    "COMMAND ----------"
   ]
  },
  {
   "cell_type": "code",
   "execution_count": null,
   "id": "e8f980ac",
   "metadata": {},
   "outputs": [],
   "source": [
    "df_ordered = df.orderBy('id').show()"
   ]
  },
  {
   "cell_type": "markdown",
   "id": "84f9ec56",
   "metadata": {},
   "source": [
    "COMMAND ----------"
   ]
  },
  {
   "cell_type": "markdown",
   "id": "b399b4b3",
   "metadata": {},
   "source": [
    "ordenado de forma descendente"
   ]
  },
  {
   "cell_type": "code",
   "execution_count": null,
   "id": "e6d6db23",
   "metadata": {},
   "outputs": [],
   "source": [
    "df_ordered = df.orderBy(df.id.desc()).show()"
   ]
  },
  {
   "cell_type": "markdown",
   "id": "aca1a953",
   "metadata": {},
   "source": [
    "COMMAND ----------"
   ]
  },
  {
   "cell_type": "code",
   "execution_count": null,
   "id": "44ca4ab9",
   "metadata": {
    "lines_to_next_cell": 2
   },
   "outputs": [],
   "source": [
    "df = spark.createDataFrame([(1,\"John\",25),(2,\"Jane\",30),(3,\"Bob\",35),(4,\"Mary\",10)], [\"id\",\"name\",\"age\"])"
   ]
  },
  {
   "cell_type": "markdown",
   "id": "a9187a92",
   "metadata": {},
   "source": [
    "COMMAND ----------"
   ]
  },
  {
   "cell_type": "code",
   "execution_count": null,
   "id": "ade65125",
   "metadata": {},
   "outputs": [],
   "source": [
    "df.show()"
   ]
  },
  {
   "cell_type": "markdown",
   "id": "085c29c7",
   "metadata": {},
   "source": [
    "COMMAND ----------"
   ]
  },
  {
   "cell_type": "code",
   "execution_count": null,
   "id": "ea673b48",
   "metadata": {},
   "outputs": [],
   "source": [
    "df_order_desc = df.orderBy('age','id').show()"
   ]
  },
  {
   "cell_type": "markdown",
   "id": "d1576b6a",
   "metadata": {},
   "source": [
    "COMMAND ----------"
   ]
  },
  {
   "cell_type": "markdown",
   "id": "37fe094a",
   "metadata": {},
   "source": [
    "order by desc  e asc em multiplos campos"
   ]
  },
  {
   "cell_type": "code",
   "execution_count": null,
   "id": "452809b3",
   "metadata": {},
   "outputs": [],
   "source": [
    "df_order_desc = df.orderBy(df.id.asc(),df.age.desc()).show()"
   ]
  }
 ],
 "metadata": {
  "jupytext": {
   "cell_metadata_filter": "-all",
   "main_language": "python",
   "notebook_metadata_filter": "-all"
  }
 },
 "nbformat": 4,
 "nbformat_minor": 5
}
