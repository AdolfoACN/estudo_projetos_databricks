{
 "cells": [
  {
   "cell_type": "markdown",
   "id": "81ab0f80",
   "metadata": {},
   "source": [
    "Databricks notebook source\n",
    "# Ler um arquivo e fazer uma transformação no SQL\n",
    "# É possível, ler um parquet, json e etc"
   ]
  },
  {
   "cell_type": "code",
   "execution_count": null,
   "id": "c415c8e0",
   "metadata": {},
   "outputs": [],
   "source": [
    "df = spark.read.csv(\"/FileStore/tables/sales.csv\", header = True , inferSchema=True )"
   ]
  },
  {
   "cell_type": "code",
   "execution_count": null,
   "id": "56b6d42f",
   "metadata": {
    "lines_to_next_cell": 2
   },
   "outputs": [],
   "source": []
  },
  {
   "cell_type": "markdown",
   "id": "0103fd4e",
   "metadata": {},
   "source": [
    "COMMAND ----------"
   ]
  },
  {
   "cell_type": "code",
   "execution_count": null,
   "id": "a56073d5",
   "metadata": {},
   "outputs": [],
   "source": [
    "df.show()"
   ]
  },
  {
   "cell_type": "markdown",
   "id": "a41eec19",
   "metadata": {},
   "source": [
    "COMMAND ----------"
   ]
  },
  {
   "cell_type": "markdown",
   "id": "2ccd44de",
   "metadata": {},
   "source": [
    "# Executar consulta SQL com o dataframe\n",
    "# é necessário criar uma tabela temporária ( comando createGlobalTempView )"
   ]
  },
  {
   "cell_type": "code",
   "execution_count": null,
   "id": "42f17f08",
   "metadata": {},
   "outputs": [],
   "source": [
    "df.createOrReplaceTempView('sales_table')"
   ]
  },
  {
   "cell_type": "markdown",
   "id": "9ef27024",
   "metadata": {},
   "source": [
    "COMMAND ----------"
   ]
  },
  {
   "cell_type": "markdown",
   "id": "ab8b88a4",
   "metadata": {},
   "source": [
    "# o retorno da querie, será armazenado na variável result"
   ]
  },
  {
   "cell_type": "code",
   "execution_count": null,
   "id": "9633784f",
   "metadata": {},
   "outputs": [],
   "source": [
    "result = spark.sql(\" SELECT * FROM sales_table WHERE country = 'Brazil' \")"
   ]
  },
  {
   "cell_type": "code",
   "execution_count": null,
   "id": "37c79874",
   "metadata": {},
   "outputs": [],
   "source": []
  },
  {
   "cell_type": "markdown",
   "id": "6425a5b1",
   "metadata": {},
   "source": [
    "COMMAND ----------"
   ]
  },
  {
   "cell_type": "code",
   "execution_count": null,
   "id": "33725a64",
   "metadata": {},
   "outputs": [],
   "source": [
    "result.show()"
   ]
  },
  {
   "cell_type": "markdown",
   "id": "9b496e85",
   "metadata": {},
   "source": [
    "COMMAND ----------"
   ]
  },
  {
   "cell_type": "markdown",
   "id": "4d049d4f",
   "metadata": {},
   "source": [
    "# salvar o result em formato parquet"
   ]
  },
  {
   "cell_type": "code",
   "execution_count": null,
   "id": "41c33be6",
   "metadata": {},
   "outputs": [],
   "source": [
    "result.write.parquet(\"/FileStore/tables/result_sales.parquet\")"
   ]
  },
  {
   "cell_type": "markdown",
   "id": "bc17c855",
   "metadata": {},
   "source": [
    "COMMAND ----------"
   ]
  },
  {
   "cell_type": "markdown",
   "id": "af5dd7e3",
   "metadata": {},
   "source": [
    "# listar o database onde está a tabela/view temporária recém criada. ls para listar"
   ]
  },
  {
   "cell_type": "code",
   "execution_count": null,
   "id": "e0d838d1",
   "metadata": {},
   "outputs": [],
   "source": [
    "dbutils.fs.ls(\"/FileStore/tables/result_sales.parquet\")"
   ]
  }
 ],
 "metadata": {
  "jupytext": {
   "cell_metadata_filter": "-all",
   "main_language": "python",
   "notebook_metadata_filter": "-all"
  }
 },
 "nbformat": 4,
 "nbformat_minor": 5
}
