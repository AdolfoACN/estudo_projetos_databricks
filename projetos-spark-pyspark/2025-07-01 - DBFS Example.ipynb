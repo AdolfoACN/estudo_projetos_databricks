{
 "cells": [
  {
   "cell_type": "markdown",
   "id": "7590d8c4",
   "metadata": {},
   "source": [
    "Databricks notebook source\n",
    "MAGIC %md\n",
    "MAGIC\n",
    "MAGIC ## Overview\n",
    "MAGIC\n",
    "MAGIC This notebook will show you how to create and query a table or DataFrame that you uploaded to DBFS. [DBFS](https://docs.databricks.com/user-guide/dbfs-databricks-file-system.html) is a Databricks File System that allows you to store data for querying inside of Databricks. This notebook assumes that you have a file already inside of DBFS that you would like to read from.\n",
    "MAGIC\n",
    "MAGIC This notebook is written in **Python** so the default cell type is Python. However, you can use different languages by using the `%LANGUAGE` syntax. Python, Scala, SQL, and R are all supported."
   ]
  },
  {
   "cell_type": "markdown",
   "id": "d0e40146",
   "metadata": {},
   "source": [
    "COMMAND ----------"
   ]
  },
  {
   "cell_type": "code",
   "execution_count": null,
   "id": "99272a19",
   "metadata": {},
   "outputs": [],
   "source": [
    "# File location and type\n",
    "file_location = \"/FileStore/tables/imoveis-1.csv\"\n",
    "file_type = \"csv\""
   ]
  },
  {
   "cell_type": "code",
   "execution_count": null,
   "id": "d35a3e6b",
   "metadata": {},
   "outputs": [],
   "source": [
    "# CSV options\n",
    "infer_schema = \"false\"\n",
    "first_row_is_header = \"false\"\n",
    "delimiter = \",\""
   ]
  },
  {
   "cell_type": "code",
   "execution_count": null,
   "id": "f53e2dc0",
   "metadata": {},
   "outputs": [],
   "source": [
    "# The applied options are for CSV files. For other file types, these will be ignored.\n",
    "df = spark.read.format(file_type) \\\n",
    "  .option(\"inferSchema\", infer_schema) \\\n",
    "  .option(\"header\", first_row_is_header) \\\n",
    "  .option(\"sep\", delimiter) \\\n",
    "  .load(file_location)"
   ]
  },
  {
   "cell_type": "code",
   "execution_count": null,
   "id": "a57fd0bb",
   "metadata": {},
   "outputs": [],
   "source": [
    "display(df)"
   ]
  },
  {
   "cell_type": "markdown",
   "id": "d44320fb",
   "metadata": {},
   "source": [
    "COMMAND ----------"
   ]
  },
  {
   "cell_type": "markdown",
   "id": "cd0c292b",
   "metadata": {},
   "source": [
    "Create a view or table"
   ]
  },
  {
   "cell_type": "code",
   "execution_count": null,
   "id": "b4a9254c",
   "metadata": {},
   "outputs": [],
   "source": [
    "temp_table_name = \"imoveis-1_csv\""
   ]
  },
  {
   "cell_type": "code",
   "execution_count": null,
   "id": "7fb007ed",
   "metadata": {},
   "outputs": [],
   "source": [
    "df.createOrReplaceTempView(temp_table_name)"
   ]
  },
  {
   "cell_type": "markdown",
   "id": "0b115f19",
   "metadata": {},
   "source": [
    "COMMAND ----------"
   ]
  },
  {
   "cell_type": "markdown",
   "id": "2d67306f",
   "metadata": {},
   "source": [
    "MAGIC %sql\n",
    "MAGIC\n",
    "MAGIC /* Query the created temp table in a SQL cell */\n",
    "MAGIC\n",
    "MAGIC select * from `imoveis-1_csv`"
   ]
  },
  {
   "cell_type": "markdown",
   "id": "d914f7e2",
   "metadata": {},
   "source": [
    "COMMAND ----------"
   ]
  },
  {
   "cell_type": "markdown",
   "id": "6e500bd7",
   "metadata": {},
   "source": [
    "With this registered as a temp view, it will only be available to this particular notebook. If you'd like other users to be able to query this table, you can also create a table from the DataFrame.\n",
    "Once saved, this table will persist across cluster restarts as well as allow various users across different notebooks to query this data.\n",
    "To do so, choose your table name and uncomment the bottom line."
   ]
  },
  {
   "cell_type": "code",
   "execution_count": null,
   "id": "ea3f8cb6",
   "metadata": {},
   "outputs": [],
   "source": [
    "permanent_table_name = \"imoveis-1_csv\""
   ]
  },
  {
   "cell_type": "markdown",
   "id": "d3402a9a",
   "metadata": {},
   "source": [
    "df.write.format(\"parquet\").saveAsTable(permanent_table_name)"
   ]
  }
 ],
 "metadata": {
  "jupytext": {
   "cell_metadata_filter": "-all",
   "main_language": "python",
   "notebook_metadata_filter": "-all"
  }
 },
 "nbformat": 4,
 "nbformat_minor": 5
}
