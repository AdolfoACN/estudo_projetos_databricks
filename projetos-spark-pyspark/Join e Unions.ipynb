{
 "cells": [
  {
   "cell_type": "markdown",
   "id": "c9809ba9",
   "metadata": {},
   "source": [
    "Databricks notebook source\n",
    "nativamente o pyspark já tem como padrão unions e joins"
   ]
  },
  {
   "cell_type": "markdown",
   "id": "5df0abfb",
   "metadata": {},
   "source": [
    "COMMAND ----------"
   ]
  },
  {
   "cell_type": "code",
   "execution_count": null,
   "id": "227eda9e",
   "metadata": {},
   "outputs": [],
   "source": [
    "df1 =  spark.createDataFrame([(1,\"John\"),(2,\"Jane\"),(3,\"Bob\")],[\"id\",\"name\"])\n",
    "df2 = spark.createDataFrame([(1,\"Mary\"),(2,\"Sue\"),(3,\"Mark\")],[\"id\",\"name\"])"
   ]
  },
  {
   "cell_type": "markdown",
   "id": "e5f866fa",
   "metadata": {},
   "source": [
    "COMMAND ----------"
   ]
  },
  {
   "cell_type": "code",
   "execution_count": null,
   "id": "bdae9b2e",
   "metadata": {},
   "outputs": [],
   "source": [
    "df2.show()\n",
    "df1.show()"
   ]
  },
  {
   "cell_type": "markdown",
   "id": "72eae56f",
   "metadata": {},
   "source": [
    "COMMAND ----------"
   ]
  },
  {
   "cell_type": "markdown",
   "id": "3017fb6c",
   "metadata": {},
   "source": [
    "union para realizar os dataframes PRECISAM TER A MESMA ESTRUTURA"
   ]
  },
  {
   "cell_type": "code",
   "execution_count": null,
   "id": "fa901450",
   "metadata": {},
   "outputs": [],
   "source": [
    "df_union = df1.union(df2)"
   ]
  },
  {
   "cell_type": "markdown",
   "id": "c474f0d6",
   "metadata": {},
   "source": [
    "COMMAND ----------"
   ]
  },
  {
   "cell_type": "code",
   "execution_count": null,
   "id": "ef22eb87",
   "metadata": {},
   "outputs": [],
   "source": [
    "df_union.show()"
   ]
  },
  {
   "cell_type": "markdown",
   "id": "5b740b37",
   "metadata": {},
   "source": [
    "COMMAND ----------"
   ]
  },
  {
   "cell_type": "code",
   "execution_count": null,
   "id": "4d5b0f98",
   "metadata": {},
   "outputs": [],
   "source": [
    "df1 =  spark.createDataFrame([(1,\"John\"),(2,\"Jane\"),(3,\"Bob\")],[\"id\",\"name\"])\n",
    "df2 = spark.createDataFrame([(2,25),(3,30),(4,35)],[\"id\",\"age\"])"
   ]
  },
  {
   "cell_type": "markdown",
   "id": "07ed317b",
   "metadata": {},
   "source": [
    "COMMAND ----------"
   ]
  },
  {
   "cell_type": "code",
   "execution_count": null,
   "id": "c3a1b265",
   "metadata": {},
   "outputs": [],
   "source": [
    "df2.show()\n",
    "df1.show()"
   ]
  },
  {
   "cell_type": "markdown",
   "id": "1269bc9d",
   "metadata": {},
   "source": [
    "COMMAND ----------"
   ]
  },
  {
   "cell_type": "markdown",
   "id": "274bd595",
   "metadata": {},
   "source": [
    "join inner join"
   ]
  },
  {
   "cell_type": "code",
   "execution_count": null,
   "id": "a1401aa9",
   "metadata": {},
   "outputs": [],
   "source": [
    "df_inner = df1.join(df2,on = 'id',how = 'inner')"
   ]
  },
  {
   "cell_type": "markdown",
   "id": "96aef90c",
   "metadata": {},
   "source": [
    "COMMAND ----------"
   ]
  },
  {
   "cell_type": "code",
   "execution_count": null,
   "id": "8a9d2706",
   "metadata": {},
   "outputs": [],
   "source": [
    "df_inner.show()"
   ]
  },
  {
   "cell_type": "markdown",
   "id": "279a773c",
   "metadata": {},
   "source": [
    "COMMAND ----------"
   ]
  },
  {
   "cell_type": "code",
   "execution_count": null,
   "id": "a6cb5e22",
   "metadata": {
    "lines_to_next_cell": 2
   },
   "outputs": [],
   "source": [
    "df_left = df1.join(df2,on = 'id',how = 'left')"
   ]
  },
  {
   "cell_type": "markdown",
   "id": "4bab3787",
   "metadata": {},
   "source": [
    "COMMAND ----------"
   ]
  },
  {
   "cell_type": "code",
   "execution_count": null,
   "id": "c4c134af",
   "metadata": {},
   "outputs": [],
   "source": [
    "df_left.show()"
   ]
  },
  {
   "cell_type": "markdown",
   "id": "b139572a",
   "metadata": {},
   "source": [
    "COMMAND ----------"
   ]
  },
  {
   "cell_type": "code",
   "execution_count": null,
   "id": "c131aa4d",
   "metadata": {
    "lines_to_next_cell": 2
   },
   "outputs": [],
   "source": [
    "df_right = df1.join(df2,on = 'id',how = 'right')"
   ]
  },
  {
   "cell_type": "markdown",
   "id": "d79f014a",
   "metadata": {},
   "source": [
    "COMMAND ----------"
   ]
  },
  {
   "cell_type": "code",
   "execution_count": null,
   "id": "ee4a8912",
   "metadata": {},
   "outputs": [],
   "source": [
    "df_right.show()"
   ]
  },
  {
   "cell_type": "markdown",
   "id": "8fea85a1",
   "metadata": {},
   "source": [
    "COMMAND ----------"
   ]
  },
  {
   "cell_type": "code",
   "execution_count": null,
   "id": "1b32f7f7",
   "metadata": {
    "lines_to_next_cell": 2
   },
   "outputs": [],
   "source": [
    "df_full = df1.join(df2,on = 'id',how = 'full')"
   ]
  },
  {
   "cell_type": "markdown",
   "id": "5ec36905",
   "metadata": {},
   "source": [
    "COMMAND ----------"
   ]
  },
  {
   "cell_type": "code",
   "execution_count": null,
   "id": "5b95c8b0",
   "metadata": {},
   "outputs": [],
   "source": [
    "df_full.show()"
   ]
  }
 ],
 "metadata": {
  "jupytext": {
   "cell_metadata_filter": "-all",
   "main_language": "python",
   "notebook_metadata_filter": "-all"
  }
 },
 "nbformat": 4,
 "nbformat_minor": 5
}
