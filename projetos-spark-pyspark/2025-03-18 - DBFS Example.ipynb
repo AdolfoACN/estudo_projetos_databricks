{
 "cells": [
  {
   "cell_type": "markdown",
   "id": "096ea361",
   "metadata": {},
   "source": [
    "Databricks notebook source\n",
    "MAGIC %md\n",
    "MAGIC\n",
    "MAGIC ## Overview\n",
    "MAGIC\n",
    "MAGIC This notebook will show you how to create and query a table or DataFrame that you uploaded to DBFS. [DBFS](https://docs.databricks.com/user-guide/dbfs-databricks-file-system.html) is a Databricks File System that allows you to store data for querying inside of Databricks. This notebook assumes that you have a file already inside of DBFS that you would like to read from.\n",
    "MAGIC\n",
    "MAGIC This notebook is written in **Python** so the default cell type is Python. However, you can use different languages by using the `%LANGUAGE` syntax. Python, Scala, SQL, and R are all supported."
   ]
  },
  {
   "cell_type": "markdown",
   "id": "85bfeb72",
   "metadata": {},
   "source": [
    "COMMAND ----------"
   ]
  },
  {
   "cell_type": "code",
   "execution_count": null,
   "id": "3a161437",
   "metadata": {},
   "outputs": [],
   "source": [
    "# File location and type\n",
    "file_location = \"/FileStore/tables/carga/clientes_cartao-1.csv\"\n",
    "file_type = \"csv\""
   ]
  },
  {
   "cell_type": "code",
   "execution_count": null,
   "id": "1e4b4bc5",
   "metadata": {},
   "outputs": [],
   "source": [
    "# CSV options\n",
    "infer_schema = \"false\"\n",
    "first_row_is_header = \"false\"\n",
    "delimiter = \",\""
   ]
  },
  {
   "cell_type": "code",
   "execution_count": null,
   "id": "fb5ba6f1",
   "metadata": {},
   "outputs": [],
   "source": [
    "# The applied options are for CSV files. For other file types, these will be ignored.\n",
    "df = spark.read.format(file_type) \\\n",
    "  .option(\"inferSchema\", infer_schema) \\\n",
    "  .option(\"header\", first_row_is_header) \\\n",
    "  .option(\"sep\", delimiter) \\\n",
    "  .load(file_location)"
   ]
  },
  {
   "cell_type": "code",
   "execution_count": null,
   "id": "96ee27c5",
   "metadata": {},
   "outputs": [],
   "source": [
    "display(df)"
   ]
  },
  {
   "cell_type": "markdown",
   "id": "382fd4bd",
   "metadata": {},
   "source": [
    "COMMAND ----------"
   ]
  },
  {
   "cell_type": "markdown",
   "id": "98baff85",
   "metadata": {},
   "source": [
    "Create a view or table"
   ]
  },
  {
   "cell_type": "code",
   "execution_count": null,
   "id": "1e24ccda",
   "metadata": {},
   "outputs": [],
   "source": [
    "temp_table_name = \"clientes_cartao-1_csv\""
   ]
  },
  {
   "cell_type": "code",
   "execution_count": null,
   "id": "9e0c3727",
   "metadata": {},
   "outputs": [],
   "source": [
    "df.createOrReplaceTempView(temp_table_name)"
   ]
  },
  {
   "cell_type": "markdown",
   "id": "6217f02a",
   "metadata": {},
   "source": [
    "COMMAND ----------"
   ]
  },
  {
   "cell_type": "markdown",
   "id": "1a28fe9c",
   "metadata": {},
   "source": [
    "MAGIC %sql\n",
    "MAGIC\n",
    "MAGIC /* Query the created temp table in a SQL cell */\n",
    "MAGIC\n",
    "MAGIC select * from `clientes_cartao-1_csv`"
   ]
  },
  {
   "cell_type": "markdown",
   "id": "03d07af7",
   "metadata": {},
   "source": [
    "COMMAND ----------"
   ]
  },
  {
   "cell_type": "markdown",
   "id": "dcd2f3c6",
   "metadata": {},
   "source": [
    "With this registered as a temp view, it will only be available to this particular notebook. If you'd like other users to be able to query this table, you can also create a table from the DataFrame.\n",
    "Once saved, this table will persist across cluster restarts as well as allow various users across different notebooks to query this data.\n",
    "To do so, choose your table name and uncomment the bottom line."
   ]
  },
  {
   "cell_type": "code",
   "execution_count": null,
   "id": "8bb64fd1",
   "metadata": {},
   "outputs": [],
   "source": [
    "permanent_table_name = \"clientes_cartao-1_csv\""
   ]
  },
  {
   "cell_type": "markdown",
   "id": "7ad38d99",
   "metadata": {},
   "source": [
    "df.write.format(\"parquet\").saveAsTable(permanent_table_name)"
   ]
  }
 ],
 "metadata": {
  "jupytext": {
   "cell_metadata_filter": "-all",
   "main_language": "python",
   "notebook_metadata_filter": "-all"
  }
 },
 "nbformat": 4,
 "nbformat_minor": 5
}
