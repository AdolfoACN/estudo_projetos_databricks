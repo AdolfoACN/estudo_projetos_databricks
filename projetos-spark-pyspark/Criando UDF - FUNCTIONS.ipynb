{
 "cells": [
  {
   "cell_type": "code",
   "execution_count": null,
   "id": "f1f09b82",
   "metadata": {
    "lines_to_next_cell": 2
   },
   "outputs": [],
   "source": [
    "# Databricks notebook source\n",
    "df_beaches = spark.read.csv( \"/FileStore/tables/sp_beaches.csv\", header = True, inferSchema = True )"
   ]
  },
  {
   "cell_type": "markdown",
   "id": "c3fa770d",
   "metadata": {},
   "source": [
    "COMMAND ----------"
   ]
  },
  {
   "cell_type": "markdown",
   "id": "15dac61b",
   "metadata": {},
   "source": [
    "importando as funções nativas do pyspark para utilizar o integer como saída da minha função e udf"
   ]
  },
  {
   "cell_type": "code",
   "execution_count": null,
   "id": "04ef4f8c",
   "metadata": {},
   "outputs": [],
   "source": [
    "from  pyspark.sql.functions import udf\n",
    "from  pyspark.sql.types import IntegerType"
   ]
  },
  {
   "cell_type": "code",
   "execution_count": null,
   "id": "f8c3ecb2",
   "metadata": {},
   "outputs": [],
   "source": []
  },
  {
   "cell_type": "markdown",
   "id": "0c63911f",
   "metadata": {},
   "source": [
    "COMMAND ----------"
   ]
  },
  {
   "cell_type": "code",
   "execution_count": null,
   "id": "55924c2e",
   "metadata": {},
   "outputs": [],
   "source": [
    "def udf_len (s):\n",
    "    return len(s)"
   ]
  },
  {
   "cell_type": "markdown",
   "id": "4bfd68d3",
   "metadata": {},
   "source": [
    "COMMAND ----------"
   ]
  },
  {
   "cell_type": "code",
   "execution_count": null,
   "id": "ab289c4c",
   "metadata": {},
   "outputs": [],
   "source": [
    "udf_str_len = udf(udf_len,IntegerType())"
   ]
  },
  {
   "cell_type": "markdown",
   "id": "6d9fc597",
   "metadata": {},
   "source": [
    "COMMAND ----------"
   ]
  },
  {
   "cell_type": "markdown",
   "id": "2f61b950",
   "metadata": {},
   "source": [
    "Inserindo uma coluna nova ao meu dataframe, e utilizando a minha função udf_str_len  para contar as informações do campo ' City ' "
   ]
  },
  {
   "cell_type": "code",
   "execution_count": null,
   "id": "703151f1",
   "metadata": {},
   "outputs": [],
   "source": [
    "df_beaches = df_beaches.withColumn(\"Contagem\", udf_str_len(df_beaches [\"City\"]) )"
   ]
  },
  {
   "cell_type": "code",
   "execution_count": null,
   "id": "0eacd5ab",
   "metadata": {},
   "outputs": [],
   "source": []
  },
  {
   "cell_type": "markdown",
   "id": "3163a8ea",
   "metadata": {},
   "source": [
    "COMMAND ----------"
   ]
  },
  {
   "cell_type": "code",
   "execution_count": null,
   "id": "2a29ed20",
   "metadata": {},
   "outputs": [],
   "source": [
    "df_beaches.show()"
   ]
  }
 ],
 "metadata": {
  "jupytext": {
   "cell_metadata_filter": "-all",
   "main_language": "python",
   "notebook_metadata_filter": "-all"
  }
 },
 "nbformat": 4,
 "nbformat_minor": 5
}
