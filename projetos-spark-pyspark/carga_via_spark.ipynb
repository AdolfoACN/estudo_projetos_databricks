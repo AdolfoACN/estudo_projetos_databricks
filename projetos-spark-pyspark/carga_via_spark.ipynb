{
 "cells": [
  {
   "cell_type": "markdown",
   "id": "e3b46984",
   "metadata": {},
   "source": [
    "Databricks notebook source\n",
    "DBTITLE 1,Carga dos dados em Excel"
   ]
  },
  {
   "cell_type": "code",
   "execution_count": null,
   "id": "95f445b9",
   "metadata": {},
   "outputs": [],
   "source": [
    "clientes = spark.read.format('csv').options(header='true', inferSchema='true', delimiter=';').load('/FileStore/tables/carga/clientes_cartao.csv')"
   ]
  },
  {
   "cell_type": "code",
   "execution_count": null,
   "id": "32d9a2dc",
   "metadata": {},
   "outputs": [],
   "source": [
    "display(clientes)"
   ]
  },
  {
   "cell_type": "markdown",
   "id": "199472cb",
   "metadata": {
    "lines_to_next_cell": 2
   },
   "source": [
    "COMMAND ----------"
   ]
  }
 ],
 "metadata": {
  "jupytext": {
   "cell_metadata_filter": "-all",
   "main_language": "python",
   "notebook_metadata_filter": "-all"
  }
 },
 "nbformat": 4,
 "nbformat_minor": 5
}
