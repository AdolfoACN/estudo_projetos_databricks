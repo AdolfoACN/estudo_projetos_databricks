{
 "cells": [
  {
   "cell_type": "code",
   "execution_count": null,
   "id": "6b26f20b",
   "metadata": {},
   "outputs": [],
   "source": [
    "# Databricks notebook source\n",
    "df = spark.createDataFrame([(1,\"John\"),(2,\"Jane\"),(3,\"Bob\"),(4,\"Mary\")],[\"id\",\"name\"])"
   ]
  },
  {
   "cell_type": "markdown",
   "id": "c1283cab",
   "metadata": {},
   "source": [
    "COMMAND ----------"
   ]
  },
  {
   "cell_type": "code",
   "execution_count": null,
   "id": "4b454de8",
   "metadata": {},
   "outputs": [],
   "source": [
    "df.show()"
   ]
  },
  {
   "cell_type": "markdown",
   "id": "7bbe5639",
   "metadata": {},
   "source": [
    "COMMAND ----------"
   ]
  },
  {
   "cell_type": "code",
   "execution_count": null,
   "id": "efb32f35",
   "metadata": {},
   "outputs": [],
   "source": [
    "df_filtered = df.filter(df.id > 2)"
   ]
  },
  {
   "cell_type": "markdown",
   "id": "2f550a6e",
   "metadata": {},
   "source": [
    "COMMAND ----------"
   ]
  },
  {
   "cell_type": "code",
   "execution_count": null,
   "id": "beb72e9d",
   "metadata": {},
   "outputs": [],
   "source": [
    "df_filtered.show()"
   ]
  },
  {
   "cell_type": "markdown",
   "id": "226a84f9",
   "metadata": {},
   "source": [
    "COMMAND ----------"
   ]
  },
  {
   "cell_type": "code",
   "execution_count": null,
   "id": "5b7ba71e",
   "metadata": {},
   "outputs": [],
   "source": [
    "df_filtered = df.where (df.id == 2).show()"
   ]
  },
  {
   "cell_type": "markdown",
   "id": "a993fc6e",
   "metadata": {},
   "source": [
    "COMMAND ----------"
   ]
  },
  {
   "cell_type": "markdown",
   "id": "843b4c12",
   "metadata": {},
   "source": [
    "filtros com mais de uma condição\n",
    "& = and \n",
    "|(pipe) = ou/or"
   ]
  },
  {
   "cell_type": "code",
   "execution_count": null,
   "id": "e0672f7b",
   "metadata": {},
   "outputs": [],
   "source": [
    "df_filtered = df.filter( (df.id == 2) & (df.name == 'Jane') ).show()"
   ]
  },
  {
   "cell_type": "markdown",
   "id": "e1c8b06a",
   "metadata": {},
   "source": [
    "COMMAND ----------"
   ]
  },
  {
   "cell_type": "code",
   "execution_count": null,
   "id": "c3078f03",
   "metadata": {},
   "outputs": [],
   "source": [
    "df_teste = spark.createDataFrame([(1,\"John\",25),(2,\"Jane\",30),(3,\"Bob\",35),(4,\"Mary\",10)],[\"id\",\"name\",\"age\"])"
   ]
  },
  {
   "cell_type": "markdown",
   "id": "33b03a6d",
   "metadata": {},
   "source": [
    "COMMAND ----------"
   ]
  },
  {
   "cell_type": "code",
   "execution_count": null,
   "id": "2ccb233c",
   "metadata": {},
   "outputs": [],
   "source": [
    "df_teste.show()"
   ]
  },
  {
   "cell_type": "markdown",
   "id": "4a1e2933",
   "metadata": {
    "lines_to_next_cell": 2
   },
   "source": [
    "COMMAND ----------"
   ]
  },
  {
   "cell_type": "code",
   "execution_count": null,
   "id": "356d9f8c",
   "metadata": {},
   "outputs": [],
   "source": [
    "df_teste.select('id','age').show()"
   ]
  },
  {
   "cell_type": "markdown",
   "id": "c7854519",
   "metadata": {},
   "source": [
    "COMMAND ----------"
   ]
  },
  {
   "cell_type": "markdown",
   "id": "7051c44b",
   "metadata": {},
   "source": [
    "filtro e seleções de campos específicos"
   ]
  },
  {
   "cell_type": "code",
   "execution_count": null,
   "id": "4398c9ed",
   "metadata": {},
   "outputs": [],
   "source": [
    "df_filtered_select = df_teste.filter(df_teste.age > 30).select('name','age')"
   ]
  },
  {
   "cell_type": "markdown",
   "id": "369a5fa2",
   "metadata": {},
   "source": [
    "COMMAND ----------"
   ]
  },
  {
   "cell_type": "code",
   "execution_count": null,
   "id": "26dd5c7a",
   "metadata": {},
   "outputs": [],
   "source": [
    "df_filtered_select.show()"
   ]
  }
 ],
 "metadata": {
  "jupytext": {
   "cell_metadata_filter": "-all",
   "main_language": "python",
   "notebook_metadata_filter": "-all"
  }
 },
 "nbformat": 4,
 "nbformat_minor": 5
}
