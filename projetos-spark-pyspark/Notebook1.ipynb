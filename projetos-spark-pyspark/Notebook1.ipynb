{
 "cells": [
  {
   "cell_type": "markdown",
   "id": "057ab350",
   "metadata": {},
   "source": [
    "Databricks notebook source\n",
    "MAGIC %sql\n",
    "MAGIC create table table1 ;"
   ]
  }
 ],
 "metadata": {
  "jupytext": {
   "cell_metadata_filter": "-all",
   "main_language": "python",
   "notebook_metadata_filter": "-all"
  }
 },
 "nbformat": 4,
 "nbformat_minor": 5
}
