{
 "cells": [
  {
   "cell_type": "code",
   "execution_count": null,
   "id": "93da2b59",
   "metadata": {},
   "outputs": [],
   "source": [
    "# Databricks notebook source\n",
    "df =  spark.read.csv(\"/FileStore/tables/sales_data_analise_dados_hist.csv\", header = True , inferSchema=True )\n",
    "from pyspark.sql import functions as F"
   ]
  },
  {
   "cell_type": "markdown",
   "id": "fe1bdc39",
   "metadata": {},
   "source": [
    "COMMAND ----------"
   ]
  },
  {
   "cell_type": "code",
   "execution_count": null,
   "id": "a53d813b",
   "metadata": {},
   "outputs": [],
   "source": [
    "df.show()"
   ]
  },
  {
   "cell_type": "markdown",
   "id": "0e1ce2a6",
   "metadata": {},
   "source": [
    "COMMAND ----------"
   ]
  },
  {
   "cell_type": "markdown",
   "id": "0023e356",
   "metadata": {},
   "source": [
    "identificar quais são os clientes mais valiosos pelo valor de compra \n",
    "Agrupar por customer id e somar por sales_amount"
   ]
  },
  {
   "cell_type": "code",
   "execution_count": null,
   "id": "c8e2a039",
   "metadata": {},
   "outputs": [],
   "source": [
    "top_customer_by_value = df.groupBy('customer_id').agg(F.sum('sales_amount').alias('total_spent'))"
   ]
  },
  {
   "cell_type": "code",
   "execution_count": null,
   "id": "9c22d022",
   "metadata": {},
   "outputs": [],
   "source": [
    "top_customer_by_value.orderBy(F.desc('total_spent')).limit(10).show()"
   ]
  },
  {
   "cell_type": "code",
   "execution_count": null,
   "id": "9cb0c9aa",
   "metadata": {},
   "outputs": [],
   "source": []
  },
  {
   "cell_type": "code",
   "execution_count": null,
   "id": "9aa0c8ff",
   "metadata": {},
   "outputs": [],
   "source": []
  },
  {
   "cell_type": "markdown",
   "id": "ade78ad7",
   "metadata": {},
   "source": [
    "COMMAND ----------"
   ]
  },
  {
   "cell_type": "markdown",
   "id": "dd99a98c",
   "metadata": {},
   "source": [
    "quais são os clientes que compram com maior frequência ( tempo )\n",
    "agrupar por customer_id (contando a quantidade de clientes em uma nova coluna, neste caso foi necessário fazer um count, pois o groupby, agrupa a quantidade de\n",
    "registros(vendas), pois neste dataframe, cada linha corresponde a uma única venda."
   ]
  },
  {
   "cell_type": "code",
   "execution_count": null,
   "id": "950ded9f",
   "metadata": {},
   "outputs": [],
   "source": [
    "top_customer_by_frequency = df.groupBy('customer_id').count().withColumnRenamed('count','purchase_frequency')"
   ]
  },
  {
   "cell_type": "code",
   "execution_count": null,
   "id": "cd389421",
   "metadata": {
    "lines_to_next_cell": 2
   },
   "outputs": [],
   "source": [
    "top_customer_by_frequency.orderBy(F.desc('purchase_frequency')).limit(10).show()"
   ]
  },
  {
   "cell_type": "markdown",
   "id": "44aeda7c",
   "metadata": {},
   "source": [
    "COMMAND ----------"
   ]
  },
  {
   "cell_type": "markdown",
   "id": "dec7afc7",
   "metadata": {
    "lines_to_next_cell": 2
   },
   "source": [
    "# verificar como os clientes mais valiosos, avaliam os produtos\n",
    "# neste caso, já temos os clientes mais valiosos, precisamos chegar na média de rating de cada cliente\n",
    "# neste caso, teremos que relacionar(join) os dataframes já criados top_customer_by_value e meu df inicial ( clientes mais valiosos)\n",
    "# filtrar pelos top 10 de clientes que compram com maior frequência"
   ]
  },
  {
   "cell_type": "code",
   "execution_count": null,
   "id": "dcda347f",
   "metadata": {},
   "outputs": [],
   "source": [
    "top_customer_rating = top_customer_by_value.join(df,'customer_id').select('customer_id','product_name','rating')"
   ]
  },
  {
   "cell_type": "code",
   "execution_count": null,
   "id": "cdafbba8",
   "metadata": {},
   "outputs": [],
   "source": [
    "top_customer_rating = top_customer_rating.filter(top_customer_rating.customer_id == 6).show()"
   ]
  }
 ],
 "metadata": {
  "jupytext": {
   "cell_metadata_filter": "-all",
   "main_language": "python",
   "notebook_metadata_filter": "-all"
  }
 },
 "nbformat": 4,
 "nbformat_minor": 5
}
